{
 "cells": [
  {
   "cell_type": "code",
   "execution_count": 1,
   "id": "13e7272a",
   "metadata": {
    "_cell_guid": "b1076dfc-b9ad-4769-8c92-a6c4dae69d19",
    "_uuid": "8f2839f25d086af736a60e9eeb907d3b93b6e0e5",
    "execution": {
     "iopub.execute_input": "2024-04-26T15:32:59.892975Z",
     "iopub.status.busy": "2024-04-26T15:32:59.892485Z",
     "iopub.status.idle": "2024-04-26T15:33:01.030600Z",
     "shell.execute_reply": "2024-04-26T15:33:01.029366Z"
    },
    "papermill": {
     "duration": 1.158191,
     "end_time": "2024-04-26T15:33:01.033499",
     "exception": false,
     "start_time": "2024-04-26T15:32:59.875308",
     "status": "completed"
    },
    "tags": []
   },
   "outputs": [
    {
     "name": "stdout",
     "output_type": "stream",
     "text": [
      "/kaggle/input/spaceship-titanic/sample_submission.csv\n",
      "/kaggle/input/spaceship-titanic/train.csv\n",
      "/kaggle/input/spaceship-titanic/test.csv\n"
     ]
    }
   ],
   "source": [
    "# This Python 3 environment comes with many helpful analytics libraries installed\n",
    "# It is defined by the kaggle/python Docker image: https://github.com/kaggle/docker-python\n",
    "# For example, here's several helpful packages to load\n",
    "\n",
    "import numpy as np # linear algebra\n",
    "import pandas as pd # data processing, CSV file I/O (e.g. pd.read_csv)\n",
    "\n",
    "# Input data files are available in the read-only \"../input/\" directory\n",
    "# For example, running this (by clicking run or pressing Shift+Enter) will list all files under the input directory\n",
    "\n",
    "import os\n",
    "for dirname, _, filenames in os.walk('/kaggle/input'):\n",
    "    for filename in filenames:\n",
    "        print(os.path.join(dirname, filename))\n",
    "\n",
    "# You can write up to 20GB to the current directory (/kaggle/working/) that gets preserved as output when you create a version using \"Save & Run All\" \n",
    "# You can also write temporary files to /kaggle/temp/, but they won't be saved outside of the current session"
   ]
  },
  {
   "cell_type": "code",
   "execution_count": 2,
   "id": "684e7d0a",
   "metadata": {
    "execution": {
     "iopub.execute_input": "2024-04-26T15:33:01.064733Z",
     "iopub.status.busy": "2024-04-26T15:33:01.064163Z",
     "iopub.status.idle": "2024-04-26T15:33:01.177611Z",
     "shell.execute_reply": "2024-04-26T15:33:01.176453Z"
    },
    "papermill": {
     "duration": 0.132529,
     "end_time": "2024-04-26T15:33:01.180733",
     "exception": false,
     "start_time": "2024-04-26T15:33:01.048204",
     "status": "completed"
    },
    "tags": []
   },
   "outputs": [],
   "source": [
    "train_df = pd.read_csv('/kaggle/input/spaceship-titanic/train.csv')\n",
    "test_df = pd.read_csv('/kaggle/input/spaceship-titanic/test.csv')"
   ]
  },
  {
   "cell_type": "code",
   "execution_count": 3,
   "id": "bec35297",
   "metadata": {
    "execution": {
     "iopub.execute_input": "2024-04-26T15:33:01.213064Z",
     "iopub.status.busy": "2024-04-26T15:33:01.212675Z",
     "iopub.status.idle": "2024-04-26T15:33:01.245160Z",
     "shell.execute_reply": "2024-04-26T15:33:01.243988Z"
    },
    "papermill": {
     "duration": 0.051601,
     "end_time": "2024-04-26T15:33:01.247903",
     "exception": false,
     "start_time": "2024-04-26T15:33:01.196302",
     "status": "completed"
    },
    "tags": []
   },
   "outputs": [
    {
     "data": {
      "text/html": [
       "<div>\n",
       "<style scoped>\n",
       "    .dataframe tbody tr th:only-of-type {\n",
       "        vertical-align: middle;\n",
       "    }\n",
       "\n",
       "    .dataframe tbody tr th {\n",
       "        vertical-align: top;\n",
       "    }\n",
       "\n",
       "    .dataframe thead th {\n",
       "        text-align: right;\n",
       "    }\n",
       "</style>\n",
       "<table border=\"1\" class=\"dataframe\">\n",
       "  <thead>\n",
       "    <tr style=\"text-align: right;\">\n",
       "      <th></th>\n",
       "      <th>PassengerId</th>\n",
       "      <th>HomePlanet</th>\n",
       "      <th>CryoSleep</th>\n",
       "      <th>Cabin</th>\n",
       "      <th>Destination</th>\n",
       "      <th>Age</th>\n",
       "      <th>VIP</th>\n",
       "      <th>RoomService</th>\n",
       "      <th>FoodCourt</th>\n",
       "      <th>ShoppingMall</th>\n",
       "      <th>Spa</th>\n",
       "      <th>VRDeck</th>\n",
       "      <th>Name</th>\n",
       "      <th>Transported</th>\n",
       "    </tr>\n",
       "  </thead>\n",
       "  <tbody>\n",
       "    <tr>\n",
       "      <th>0</th>\n",
       "      <td>0001_01</td>\n",
       "      <td>Europa</td>\n",
       "      <td>False</td>\n",
       "      <td>B/0/P</td>\n",
       "      <td>TRAPPIST-1e</td>\n",
       "      <td>39.0</td>\n",
       "      <td>False</td>\n",
       "      <td>0.0</td>\n",
       "      <td>0.0</td>\n",
       "      <td>0.0</td>\n",
       "      <td>0.0</td>\n",
       "      <td>0.0</td>\n",
       "      <td>Maham Ofracculy</td>\n",
       "      <td>False</td>\n",
       "    </tr>\n",
       "    <tr>\n",
       "      <th>1</th>\n",
       "      <td>0002_01</td>\n",
       "      <td>Earth</td>\n",
       "      <td>False</td>\n",
       "      <td>F/0/S</td>\n",
       "      <td>TRAPPIST-1e</td>\n",
       "      <td>24.0</td>\n",
       "      <td>False</td>\n",
       "      <td>109.0</td>\n",
       "      <td>9.0</td>\n",
       "      <td>25.0</td>\n",
       "      <td>549.0</td>\n",
       "      <td>44.0</td>\n",
       "      <td>Juanna Vines</td>\n",
       "      <td>True</td>\n",
       "    </tr>\n",
       "    <tr>\n",
       "      <th>2</th>\n",
       "      <td>0003_01</td>\n",
       "      <td>Europa</td>\n",
       "      <td>False</td>\n",
       "      <td>A/0/S</td>\n",
       "      <td>TRAPPIST-1e</td>\n",
       "      <td>58.0</td>\n",
       "      <td>True</td>\n",
       "      <td>43.0</td>\n",
       "      <td>3576.0</td>\n",
       "      <td>0.0</td>\n",
       "      <td>6715.0</td>\n",
       "      <td>49.0</td>\n",
       "      <td>Altark Susent</td>\n",
       "      <td>False</td>\n",
       "    </tr>\n",
       "    <tr>\n",
       "      <th>3</th>\n",
       "      <td>0003_02</td>\n",
       "      <td>Europa</td>\n",
       "      <td>False</td>\n",
       "      <td>A/0/S</td>\n",
       "      <td>TRAPPIST-1e</td>\n",
       "      <td>33.0</td>\n",
       "      <td>False</td>\n",
       "      <td>0.0</td>\n",
       "      <td>1283.0</td>\n",
       "      <td>371.0</td>\n",
       "      <td>3329.0</td>\n",
       "      <td>193.0</td>\n",
       "      <td>Solam Susent</td>\n",
       "      <td>False</td>\n",
       "    </tr>\n",
       "    <tr>\n",
       "      <th>4</th>\n",
       "      <td>0004_01</td>\n",
       "      <td>Earth</td>\n",
       "      <td>False</td>\n",
       "      <td>F/1/S</td>\n",
       "      <td>TRAPPIST-1e</td>\n",
       "      <td>16.0</td>\n",
       "      <td>False</td>\n",
       "      <td>303.0</td>\n",
       "      <td>70.0</td>\n",
       "      <td>151.0</td>\n",
       "      <td>565.0</td>\n",
       "      <td>2.0</td>\n",
       "      <td>Willy Santantines</td>\n",
       "      <td>True</td>\n",
       "    </tr>\n",
       "  </tbody>\n",
       "</table>\n",
       "</div>"
      ],
      "text/plain": [
       "  PassengerId HomePlanet CryoSleep  Cabin  Destination   Age    VIP  \\\n",
       "0     0001_01     Europa     False  B/0/P  TRAPPIST-1e  39.0  False   \n",
       "1     0002_01      Earth     False  F/0/S  TRAPPIST-1e  24.0  False   \n",
       "2     0003_01     Europa     False  A/0/S  TRAPPIST-1e  58.0   True   \n",
       "3     0003_02     Europa     False  A/0/S  TRAPPIST-1e  33.0  False   \n",
       "4     0004_01      Earth     False  F/1/S  TRAPPIST-1e  16.0  False   \n",
       "\n",
       "   RoomService  FoodCourt  ShoppingMall     Spa  VRDeck               Name  \\\n",
       "0          0.0        0.0           0.0     0.0     0.0    Maham Ofracculy   \n",
       "1        109.0        9.0          25.0   549.0    44.0       Juanna Vines   \n",
       "2         43.0     3576.0           0.0  6715.0    49.0      Altark Susent   \n",
       "3          0.0     1283.0         371.0  3329.0   193.0       Solam Susent   \n",
       "4        303.0       70.0         151.0   565.0     2.0  Willy Santantines   \n",
       "\n",
       "   Transported  \n",
       "0        False  \n",
       "1         True  \n",
       "2        False  \n",
       "3        False  \n",
       "4         True  "
      ]
     },
     "execution_count": 3,
     "metadata": {},
     "output_type": "execute_result"
    }
   ],
   "source": [
    "train_df.head()"
   ]
  },
  {
   "cell_type": "code",
   "execution_count": 4,
   "id": "794b9e88",
   "metadata": {
    "execution": {
     "iopub.execute_input": "2024-04-26T15:33:01.281286Z",
     "iopub.status.busy": "2024-04-26T15:33:01.280902Z",
     "iopub.status.idle": "2024-04-26T15:33:01.287357Z",
     "shell.execute_reply": "2024-04-26T15:33:01.286299Z"
    },
    "papermill": {
     "duration": 0.027242,
     "end_time": "2024-04-26T15:33:01.290030",
     "exception": false,
     "start_time": "2024-04-26T15:33:01.262788",
     "status": "completed"
    },
    "tags": []
   },
   "outputs": [],
   "source": [
    "train_df_subset = train_df.copy()"
   ]
  },
  {
   "cell_type": "code",
   "execution_count": 5,
   "id": "028d8d06",
   "metadata": {
    "execution": {
     "iopub.execute_input": "2024-04-26T15:33:01.322628Z",
     "iopub.status.busy": "2024-04-26T15:33:01.321671Z",
     "iopub.status.idle": "2024-04-26T15:33:01.336266Z",
     "shell.execute_reply": "2024-04-26T15:33:01.334963Z"
    },
    "papermill": {
     "duration": 0.034201,
     "end_time": "2024-04-26T15:33:01.339152",
     "exception": false,
     "start_time": "2024-04-26T15:33:01.304951",
     "status": "completed"
    },
    "tags": []
   },
   "outputs": [],
   "source": [
    "# Some pre processing \n",
    "train_df_subset = train_df_subset.drop(['Name'], axis = 1)"
   ]
  },
  {
   "cell_type": "code",
   "execution_count": 6,
   "id": "c69d2ee8",
   "metadata": {
    "execution": {
     "iopub.execute_input": "2024-04-26T15:33:01.370902Z",
     "iopub.status.busy": "2024-04-26T15:33:01.370480Z",
     "iopub.status.idle": "2024-04-26T15:33:01.416645Z",
     "shell.execute_reply": "2024-04-26T15:33:01.415322Z"
    },
    "papermill": {
     "duration": 0.065308,
     "end_time": "2024-04-26T15:33:01.419474",
     "exception": false,
     "start_time": "2024-04-26T15:33:01.354166",
     "status": "completed"
    },
    "tags": []
   },
   "outputs": [
    {
     "name": "stdout",
     "output_type": "stream",
     "text": [
      "     HomePlanet CryoSleep     Cabin    Destination   Age    VIP  RoomService  \\\n",
      "0        Europa     False     B/0/P    TRAPPIST-1e  39.0  False          0.0   \n",
      "1         Earth     False     F/0/S    TRAPPIST-1e  24.0  False        109.0   \n",
      "2        Europa     False     A/0/S    TRAPPIST-1e  58.0   True         43.0   \n",
      "3        Europa     False     A/0/S    TRAPPIST-1e  33.0  False          0.0   \n",
      "4         Earth     False     F/1/S    TRAPPIST-1e  16.0  False        303.0   \n",
      "...         ...       ...       ...            ...   ...    ...          ...   \n",
      "8688     Europa     False    A/98/P    55 Cancri e  41.0   True          0.0   \n",
      "8689      Earth      True  G/1499/S  PSO J318.5-22  18.0  False          0.0   \n",
      "8690      Earth     False  G/1500/S    TRAPPIST-1e  26.0  False          0.0   \n",
      "8691     Europa     False   E/608/S    55 Cancri e  32.0  False          0.0   \n",
      "8692     Europa     False   E/608/S    TRAPPIST-1e  44.0  False        126.0   \n",
      "\n",
      "      FoodCourt  ShoppingMall     Spa  VRDeck  Transported Group Number  \n",
      "0           0.0           0.0     0.0     0.0        False  0001     01  \n",
      "1           9.0          25.0   549.0    44.0         True  0002     01  \n",
      "2        3576.0           0.0  6715.0    49.0        False  0003     01  \n",
      "3        1283.0         371.0  3329.0   193.0        False  0003     02  \n",
      "4          70.0         151.0   565.0     2.0         True  0004     01  \n",
      "...         ...           ...     ...     ...          ...   ...    ...  \n",
      "8688     6819.0           0.0  1643.0    74.0        False  9276     01  \n",
      "8689        0.0           0.0     0.0     0.0        False  9278     01  \n",
      "8690        0.0        1872.0     1.0     0.0         True  9279     01  \n",
      "8691     1049.0           0.0   353.0  3235.0        False  9280     01  \n",
      "8692     4688.0           0.0     0.0    12.0         True  9280     02  \n",
      "\n",
      "[8693 rows x 14 columns]\n"
     ]
    }
   ],
   "source": [
    "# Now Let's clean the Passenger Id. as you might recall the columns is made by \n",
    "# gggg_pp where gggg indicates a group the passenger is travelling with and pp is their number within the group\n",
    "# Let's now create two columns for this and for now retain both. \n",
    "\n",
    "split_passenger_id = train_df_subset['PassengerId'].str.split('_', expand=True)\n",
    "train_df_subset.loc[:,'Group'] = split_passenger_id[0]\n",
    "train_df_subset.loc[:,'Number'] = split_passenger_id[1]\n",
    "\n",
    "# Drop the passenger_id\n",
    "\n",
    "train_df_subset.drop(columns=['PassengerId'], inplace = True)\n",
    "\n",
    "print(train_df_subset)"
   ]
  },
  {
   "cell_type": "code",
   "execution_count": 7,
   "id": "c4fa2686",
   "metadata": {
    "execution": {
     "iopub.execute_input": "2024-04-26T15:33:01.451959Z",
     "iopub.status.busy": "2024-04-26T15:33:01.451500Z",
     "iopub.status.idle": "2024-04-26T15:33:01.492818Z",
     "shell.execute_reply": "2024-04-26T15:33:01.491311Z"
    },
    "papermill": {
     "duration": 0.060629,
     "end_time": "2024-04-26T15:33:01.495613",
     "exception": false,
     "start_time": "2024-04-26T15:33:01.434984",
     "status": "completed"
    },
    "tags": []
   },
   "outputs": [
    {
     "name": "stdout",
     "output_type": "stream",
     "text": [
      "     HomePlanet CryoSleep    Destination   Age    VIP  RoomService  FoodCourt  \\\n",
      "0        Europa     False    TRAPPIST-1e  39.0  False          0.0        0.0   \n",
      "1         Earth     False    TRAPPIST-1e  24.0  False        109.0        9.0   \n",
      "2        Europa     False    TRAPPIST-1e  58.0   True         43.0     3576.0   \n",
      "3        Europa     False    TRAPPIST-1e  33.0  False          0.0     1283.0   \n",
      "4         Earth     False    TRAPPIST-1e  16.0  False        303.0       70.0   \n",
      "...         ...       ...            ...   ...    ...          ...        ...   \n",
      "8688     Europa     False    55 Cancri e  41.0   True          0.0     6819.0   \n",
      "8689      Earth      True  PSO J318.5-22  18.0  False          0.0        0.0   \n",
      "8690      Earth     False    TRAPPIST-1e  26.0  False          0.0        0.0   \n",
      "8691     Europa     False    55 Cancri e  32.0  False          0.0     1049.0   \n",
      "8692     Europa     False    TRAPPIST-1e  44.0  False        126.0     4688.0   \n",
      "\n",
      "      ShoppingMall     Spa  VRDeck  Transported Group Number Cabin Deck  \\\n",
      "0              0.0     0.0     0.0        False  0001     01          B   \n",
      "1             25.0   549.0    44.0         True  0002     01          F   \n",
      "2              0.0  6715.0    49.0        False  0003     01          A   \n",
      "3            371.0  3329.0   193.0        False  0003     02          A   \n",
      "4            151.0   565.0     2.0         True  0004     01          F   \n",
      "...            ...     ...     ...          ...   ...    ...        ...   \n",
      "8688           0.0  1643.0    74.0        False  9276     01          A   \n",
      "8689           0.0     0.0     0.0        False  9278     01          G   \n",
      "8690        1872.0     1.0     0.0         True  9279     01          G   \n",
      "8691           0.0   353.0  3235.0        False  9280     01          E   \n",
      "8692           0.0     0.0    12.0         True  9280     02          E   \n",
      "\n",
      "     Cabin Number Cabin Side  \n",
      "0               0          P  \n",
      "1               0          S  \n",
      "2               0          S  \n",
      "3               0          S  \n",
      "4               1          S  \n",
      "...           ...        ...  \n",
      "8688           98          P  \n",
      "8689         1499          S  \n",
      "8690         1500          S  \n",
      "8691          608          S  \n",
      "8692          608          S  \n",
      "\n",
      "[8693 rows x 16 columns]\n"
     ]
    }
   ],
   "source": [
    "# Let's now do the same with cabin,.\n",
    "#I want to do the same for the cabin columns in whih i want to have three divisions as\n",
    "#cabin is deck/num/side i want to create three new columns with CabinDeck CAbinNum CabinSide let's go\n",
    "\n",
    "split_cabin = train_df_subset['Cabin'].str.split('/', expand=True)\n",
    "\n",
    "train_df_subset.loc[:,'Cabin Deck'] = split_cabin[0]\n",
    "train_df_subset.loc[:,'Cabin Number'] = split_cabin[1]\n",
    "train_df_subset.loc[:,'Cabin Side'] = split_cabin[2]\n",
    "\n",
    "\n",
    "train_df_subset.drop(columns=['Cabin'], inplace= True)\n",
    "\n",
    "print(train_df_subset)"
   ]
  },
  {
   "cell_type": "code",
   "execution_count": 8,
   "id": "3d59f814",
   "metadata": {
    "execution": {
     "iopub.execute_input": "2024-04-26T15:33:01.528681Z",
     "iopub.status.busy": "2024-04-26T15:33:01.528243Z",
     "iopub.status.idle": "2024-04-26T15:33:01.590086Z",
     "shell.execute_reply": "2024-04-26T15:33:01.588880Z"
    },
    "papermill": {
     "duration": 0.08185,
     "end_time": "2024-04-26T15:33:01.592859",
     "exception": false,
     "start_time": "2024-04-26T15:33:01.511009",
     "status": "completed"
    },
    "tags": []
   },
   "outputs": [
    {
     "name": "stdout",
     "output_type": "stream",
     "text": [
      "     CryoSleep   Age    VIP  RoomService  FoodCourt  ShoppingMall     Spa  \\\n",
      "0        False  39.0  False          0.0        0.0           0.0     0.0   \n",
      "1        False  24.0  False        109.0        9.0          25.0   549.0   \n",
      "2        False  58.0   True         43.0     3576.0           0.0  6715.0   \n",
      "3        False  33.0  False          0.0     1283.0         371.0  3329.0   \n",
      "4        False  16.0  False        303.0       70.0         151.0   565.0   \n",
      "...        ...   ...    ...          ...        ...           ...     ...   \n",
      "8688     False  41.0   True          0.0     6819.0           0.0  1643.0   \n",
      "8689      True  18.0  False          0.0        0.0           0.0     0.0   \n",
      "8690     False  26.0  False          0.0        0.0        1872.0     1.0   \n",
      "8691     False  32.0  False          0.0     1049.0           0.0   353.0   \n",
      "8692     False  44.0  False        126.0     4688.0           0.0     0.0   \n",
      "\n",
      "      VRDeck  Transported Group  ... Cabin Deck_A Cabin Deck_B  Cabin Deck_C  \\\n",
      "0        0.0        False  0001  ...        False         True         False   \n",
      "1       44.0         True  0002  ...        False        False         False   \n",
      "2       49.0        False  0003  ...         True        False         False   \n",
      "3      193.0        False  0003  ...         True        False         False   \n",
      "4        2.0         True  0004  ...        False        False         False   \n",
      "...      ...          ...   ...  ...          ...          ...           ...   \n",
      "8688    74.0        False  9276  ...         True        False         False   \n",
      "8689     0.0        False  9278  ...        False        False         False   \n",
      "8690     0.0         True  9279  ...        False        False         False   \n",
      "8691  3235.0        False  9280  ...        False        False         False   \n",
      "8692    12.0         True  9280  ...        False        False         False   \n",
      "\n",
      "      Cabin Deck_D  Cabin Deck_E  Cabin Deck_F  Cabin Deck_G  Cabin Deck_T  \\\n",
      "0            False         False         False         False         False   \n",
      "1            False         False          True         False         False   \n",
      "2            False         False         False         False         False   \n",
      "3            False         False         False         False         False   \n",
      "4            False         False          True         False         False   \n",
      "...            ...           ...           ...           ...           ...   \n",
      "8688         False         False         False         False         False   \n",
      "8689         False         False         False          True         False   \n",
      "8690         False         False         False          True         False   \n",
      "8691         False          True         False         False         False   \n",
      "8692         False          True         False         False         False   \n",
      "\n",
      "      Cabin Side_P  Cabin Side_S  \n",
      "0             True         False  \n",
      "1            False          True  \n",
      "2            False          True  \n",
      "3            False          True  \n",
      "4            False          True  \n",
      "...            ...           ...  \n",
      "8688          True         False  \n",
      "8689         False          True  \n",
      "8690         False          True  \n",
      "8691         False          True  \n",
      "8692         False          True  \n",
      "\n",
      "[8693 rows x 28 columns]\n"
     ]
    }
   ],
   "source": [
    "\n",
    "# Select the columns you want to one-hot encode\n",
    "columns_to_encode = ['HomePlanet', 'Destination', 'Cabin Deck', 'Cabin Side']\n",
    "\n",
    "# Remove leading and trailing whitespace\n",
    "train_df_subset[columns_to_encode] = train_df_subset[columns_to_encode].apply(lambda x: x.str.strip()) \n",
    "\n",
    "# Perform one-hot encoding on the selected columns\n",
    "train_df_subset_hot = pd.get_dummies(train_df_subset[columns_to_encode])\n",
    "\n",
    "\n",
    "# Concatenate the original X_test DataFrame with the one-hot encoded DataFrame\n",
    "train_df_subset_hot = pd.concat([train_df_subset.drop(columns=columns_to_encode), train_df_subset_hot], axis = 1)\n",
    "\n",
    "print(train_df_subset_hot)"
   ]
  },
  {
   "cell_type": "code",
   "execution_count": 9,
   "id": "44e3369d",
   "metadata": {
    "execution": {
     "iopub.execute_input": "2024-04-26T15:33:01.626458Z",
     "iopub.status.busy": "2024-04-26T15:33:01.626026Z",
     "iopub.status.idle": "2024-04-26T15:33:01.634938Z",
     "shell.execute_reply": "2024-04-26T15:33:01.632637Z"
    },
    "papermill": {
     "duration": 0.028598,
     "end_time": "2024-04-26T15:33:01.637625",
     "exception": false,
     "start_time": "2024-04-26T15:33:01.609027",
     "status": "completed"
    },
    "tags": []
   },
   "outputs": [
    {
     "data": {
      "text/plain": [
       "Index(['CryoSleep', 'Age', 'VIP', 'RoomService', 'FoodCourt', 'ShoppingMall',\n",
       "       'Spa', 'VRDeck', 'Transported', 'Group', 'Number', 'Cabin Number',\n",
       "       'HomePlanet_Earth', 'HomePlanet_Europa', 'HomePlanet_Mars',\n",
       "       'Destination_55 Cancri e', 'Destination_PSO J318.5-22',\n",
       "       'Destination_TRAPPIST-1e', 'Cabin Deck_A', 'Cabin Deck_B',\n",
       "       'Cabin Deck_C', 'Cabin Deck_D', 'Cabin Deck_E', 'Cabin Deck_F',\n",
       "       'Cabin Deck_G', 'Cabin Deck_T', 'Cabin Side_P', 'Cabin Side_S'],\n",
       "      dtype='object')"
      ]
     },
     "execution_count": 9,
     "metadata": {},
     "output_type": "execute_result"
    }
   ],
   "source": [
    "train_df_subset_hot.columns"
   ]
  },
  {
   "cell_type": "code",
   "execution_count": 10,
   "id": "d14b530b",
   "metadata": {
    "execution": {
     "iopub.execute_input": "2024-04-26T15:33:01.670369Z",
     "iopub.status.busy": "2024-04-26T15:33:01.669999Z",
     "iopub.status.idle": "2024-04-26T15:33:01.679416Z",
     "shell.execute_reply": "2024-04-26T15:33:01.678332Z"
    },
    "papermill": {
     "duration": 0.028884,
     "end_time": "2024-04-26T15:33:01.682030",
     "exception": false,
     "start_time": "2024-04-26T15:33:01.653146",
     "status": "completed"
    },
    "tags": []
   },
   "outputs": [
    {
     "data": {
      "text/plain": [
       "CryoSleep                     object\n",
       "Age                          float64\n",
       "VIP                           object\n",
       "RoomService                  float64\n",
       "FoodCourt                    float64\n",
       "ShoppingMall                 float64\n",
       "Spa                          float64\n",
       "VRDeck                       float64\n",
       "Transported                     bool\n",
       "Group                         object\n",
       "Number                        object\n",
       "Cabin Number                  object\n",
       "HomePlanet_Earth                bool\n",
       "HomePlanet_Europa               bool\n",
       "HomePlanet_Mars                 bool\n",
       "Destination_55 Cancri e         bool\n",
       "Destination_PSO J318.5-22       bool\n",
       "Destination_TRAPPIST-1e         bool\n",
       "Cabin Deck_A                    bool\n",
       "Cabin Deck_B                    bool\n",
       "Cabin Deck_C                    bool\n",
       "Cabin Deck_D                    bool\n",
       "Cabin Deck_E                    bool\n",
       "Cabin Deck_F                    bool\n",
       "Cabin Deck_G                    bool\n",
       "Cabin Deck_T                    bool\n",
       "Cabin Side_P                    bool\n",
       "Cabin Side_S                    bool\n",
       "dtype: object"
      ]
     },
     "execution_count": 10,
     "metadata": {},
     "output_type": "execute_result"
    }
   ],
   "source": [
    "train_df_subset_hot.dtypes"
   ]
  },
  {
   "cell_type": "code",
   "execution_count": 11,
   "id": "0f93c10b",
   "metadata": {
    "execution": {
     "iopub.execute_input": "2024-04-26T15:33:01.716246Z",
     "iopub.status.busy": "2024-04-26T15:33:01.715817Z",
     "iopub.status.idle": "2024-04-26T15:33:01.729816Z",
     "shell.execute_reply": "2024-04-26T15:33:01.728788Z"
    },
    "papermill": {
     "duration": 0.033937,
     "end_time": "2024-04-26T15:33:01.732459",
     "exception": false,
     "start_time": "2024-04-26T15:33:01.698522",
     "status": "completed"
    },
    "tags": []
   },
   "outputs": [],
   "source": [
    "train_df_subset_hot = train_df_subset_hot.dropna()"
   ]
  },
  {
   "cell_type": "code",
   "execution_count": 12,
   "id": "5e774f84",
   "metadata": {
    "execution": {
     "iopub.execute_input": "2024-04-26T15:33:01.765815Z",
     "iopub.status.busy": "2024-04-26T15:33:01.765070Z",
     "iopub.status.idle": "2024-04-26T15:33:01.774664Z",
     "shell.execute_reply": "2024-04-26T15:33:01.773283Z"
    },
    "papermill": {
     "duration": 0.028925,
     "end_time": "2024-04-26T15:33:01.777106",
     "exception": false,
     "start_time": "2024-04-26T15:33:01.748181",
     "status": "completed"
    },
    "tags": []
   },
   "outputs": [
    {
     "data": {
      "text/plain": [
       "0       0001\n",
       "1       0002\n",
       "2       0003\n",
       "3       0003\n",
       "4       0004\n",
       "        ... \n",
       "8688    9276\n",
       "8689    9278\n",
       "8690    9279\n",
       "8691    9280\n",
       "8692    9280\n",
       "Name: Group, Length: 7084, dtype: object"
      ]
     },
     "execution_count": 12,
     "metadata": {},
     "output_type": "execute_result"
    }
   ],
   "source": [
    "train_df_subset_hot['Group']"
   ]
  },
  {
   "cell_type": "code",
   "execution_count": 13,
   "id": "249e10ea",
   "metadata": {
    "execution": {
     "iopub.execute_input": "2024-04-26T15:33:01.811721Z",
     "iopub.status.busy": "2024-04-26T15:33:01.811263Z",
     "iopub.status.idle": "2024-04-26T15:33:01.821082Z",
     "shell.execute_reply": "2024-04-26T15:33:01.819891Z"
    },
    "papermill": {
     "duration": 0.029805,
     "end_time": "2024-04-26T15:33:01.823835",
     "exception": false,
     "start_time": "2024-04-26T15:33:01.794030",
     "status": "completed"
    },
    "tags": []
   },
   "outputs": [
    {
     "data": {
      "text/plain": [
       "CryoSleep                     object\n",
       "Age                          float64\n",
       "VIP                           object\n",
       "RoomService                  float64\n",
       "FoodCourt                    float64\n",
       "ShoppingMall                 float64\n",
       "Spa                          float64\n",
       "VRDeck                       float64\n",
       "Transported                     bool\n",
       "Group                         object\n",
       "Number                        object\n",
       "Cabin Number                  object\n",
       "HomePlanet_Earth                bool\n",
       "HomePlanet_Europa               bool\n",
       "HomePlanet_Mars                 bool\n",
       "Destination_55 Cancri e         bool\n",
       "Destination_PSO J318.5-22       bool\n",
       "Destination_TRAPPIST-1e         bool\n",
       "Cabin Deck_A                    bool\n",
       "Cabin Deck_B                    bool\n",
       "Cabin Deck_C                    bool\n",
       "Cabin Deck_D                    bool\n",
       "Cabin Deck_E                    bool\n",
       "Cabin Deck_F                    bool\n",
       "Cabin Deck_G                    bool\n",
       "Cabin Deck_T                    bool\n",
       "Cabin Side_P                    bool\n",
       "Cabin Side_S                    bool\n",
       "dtype: object"
      ]
     },
     "execution_count": 13,
     "metadata": {},
     "output_type": "execute_result"
    }
   ],
   "source": [
    "train_df_subset_hot.dtypes"
   ]
  },
  {
   "cell_type": "code",
   "execution_count": 14,
   "id": "5ab16e00",
   "metadata": {
    "execution": {
     "iopub.execute_input": "2024-04-26T15:33:01.859151Z",
     "iopub.status.busy": "2024-04-26T15:33:01.858732Z",
     "iopub.status.idle": "2024-04-26T15:33:01.899641Z",
     "shell.execute_reply": "2024-04-26T15:33:01.898423Z"
    },
    "papermill": {
     "duration": 0.062767,
     "end_time": "2024-04-26T15:33:01.903109",
     "exception": false,
     "start_time": "2024-04-26T15:33:01.840342",
     "status": "completed"
    },
    "tags": []
   },
   "outputs": [],
   "source": [
    "# Given that XGBoost supports only boolean and numbers let's convert the object types to these types and\n",
    "# see what happens \n",
    "\n",
    "numeric_col = ['Group', 'Number', 'Cabin Number']\n",
    "bool_col = ['CryoSleep', 'VIP']\n",
    "\n",
    "for col in numeric_col:\n",
    "    train_df_subset_hot[col] = pd.to_numeric(train_df_subset_hot[col])\n",
    "\n",
    "for col in bool_col:\n",
    "    train_df_subset_hot[col] = train_df_subset_hot[col].map({'True': True, 'False': False}).astype(bool)"
   ]
  },
  {
   "cell_type": "code",
   "execution_count": 15,
   "id": "695a35aa",
   "metadata": {
    "execution": {
     "iopub.execute_input": "2024-04-26T15:33:01.938963Z",
     "iopub.status.busy": "2024-04-26T15:33:01.938525Z",
     "iopub.status.idle": "2024-04-26T15:33:01.948966Z",
     "shell.execute_reply": "2024-04-26T15:33:01.947579Z"
    },
    "papermill": {
     "duration": 0.031183,
     "end_time": "2024-04-26T15:33:01.951824",
     "exception": false,
     "start_time": "2024-04-26T15:33:01.920641",
     "status": "completed"
    },
    "tags": []
   },
   "outputs": [
    {
     "data": {
      "text/plain": [
       "CryoSleep                       bool\n",
       "Age                          float64\n",
       "VIP                             bool\n",
       "RoomService                  float64\n",
       "FoodCourt                    float64\n",
       "ShoppingMall                 float64\n",
       "Spa                          float64\n",
       "VRDeck                       float64\n",
       "Transported                     bool\n",
       "Group                          int64\n",
       "Number                         int64\n",
       "Cabin Number                   int64\n",
       "HomePlanet_Earth                bool\n",
       "HomePlanet_Europa               bool\n",
       "HomePlanet_Mars                 bool\n",
       "Destination_55 Cancri e         bool\n",
       "Destination_PSO J318.5-22       bool\n",
       "Destination_TRAPPIST-1e         bool\n",
       "Cabin Deck_A                    bool\n",
       "Cabin Deck_B                    bool\n",
       "Cabin Deck_C                    bool\n",
       "Cabin Deck_D                    bool\n",
       "Cabin Deck_E                    bool\n",
       "Cabin Deck_F                    bool\n",
       "Cabin Deck_G                    bool\n",
       "Cabin Deck_T                    bool\n",
       "Cabin Side_P                    bool\n",
       "Cabin Side_S                    bool\n",
       "dtype: object"
      ]
     },
     "execution_count": 15,
     "metadata": {},
     "output_type": "execute_result"
    }
   ],
   "source": [
    " train_df_subset_hot.dtypes"
   ]
  },
  {
   "cell_type": "code",
   "execution_count": 16,
   "id": "07f0fc66",
   "metadata": {
    "execution": {
     "iopub.execute_input": "2024-04-26T15:33:01.986218Z",
     "iopub.status.busy": "2024-04-26T15:33:01.985799Z",
     "iopub.status.idle": "2024-04-26T15:33:01.993904Z",
     "shell.execute_reply": "2024-04-26T15:33:01.992665Z"
    },
    "papermill": {
     "duration": 0.028503,
     "end_time": "2024-04-26T15:33:01.996518",
     "exception": false,
     "start_time": "2024-04-26T15:33:01.968015",
     "status": "completed"
    },
    "tags": []
   },
   "outputs": [],
   "source": [
    "X = train_df_subset_hot.drop(['Transported'], axis = 1)\n",
    "y = train_df_subset_hot['Transported']"
   ]
  },
  {
   "cell_type": "code",
   "execution_count": 17,
   "id": "3bbde17c",
   "metadata": {
    "execution": {
     "iopub.execute_input": "2024-04-26T15:33:02.032196Z",
     "iopub.status.busy": "2024-04-26T15:33:02.031742Z",
     "iopub.status.idle": "2024-04-26T15:33:02.038258Z",
     "shell.execute_reply": "2024-04-26T15:33:02.036922Z"
    },
    "papermill": {
     "duration": 0.028367,
     "end_time": "2024-04-26T15:33:02.041504",
     "exception": false,
     "start_time": "2024-04-26T15:33:02.013137",
     "status": "completed"
    },
    "tags": []
   },
   "outputs": [
    {
     "name": "stdout",
     "output_type": "stream",
     "text": [
      "X shape: (7084, 27)\n",
      "y shape (7084,)\n"
     ]
    }
   ],
   "source": [
    "print(\"X shape:\", X.shape)\n",
    "print(\"y shape\", y.shape)"
   ]
  },
  {
   "cell_type": "code",
   "execution_count": 18,
   "id": "3c6d410f",
   "metadata": {
    "execution": {
     "iopub.execute_input": "2024-04-26T15:33:02.077217Z",
     "iopub.status.busy": "2024-04-26T15:33:02.076780Z",
     "iopub.status.idle": "2024-04-26T15:33:03.949933Z",
     "shell.execute_reply": "2024-04-26T15:33:03.947782Z"
    },
    "papermill": {
     "duration": 1.895577,
     "end_time": "2024-04-26T15:33:03.954276",
     "exception": false,
     "start_time": "2024-04-26T15:33:02.058699",
     "status": "completed"
    },
    "tags": []
   },
   "outputs": [],
   "source": [
    "from sklearn.model_selection import train_test_split \n",
    "\n",
    "X_train, X_test, y_train, y_test = train_test_split(X, y, test_size = 0.2, random_state = 42)"
   ]
  },
  {
   "cell_type": "code",
   "execution_count": 19,
   "id": "d73e8f25",
   "metadata": {
    "execution": {
     "iopub.execute_input": "2024-04-26T15:33:04.001542Z",
     "iopub.status.busy": "2024-04-26T15:33:04.001127Z",
     "iopub.status.idle": "2024-04-26T15:33:04.009780Z",
     "shell.execute_reply": "2024-04-26T15:33:04.008075Z"
    },
    "papermill": {
     "duration": 0.034991,
     "end_time": "2024-04-26T15:33:04.012783",
     "exception": false,
     "start_time": "2024-04-26T15:33:03.977792",
     "status": "completed"
    },
    "tags": []
   },
   "outputs": [
    {
     "name": "stdout",
     "output_type": "stream",
     "text": [
      "X_train.shape: (5667, 27)\n",
      "X_test.shape: (1417, 27)\n",
      "y_train.shape: (5667,)\n",
      "y_test.shape: (1417,)\n"
     ]
    }
   ],
   "source": [
    "print('X_train.shape:', X_train.shape)\n",
    "print('X_test.shape:', X_test.shape)\n",
    "print('y_train.shape:', y_train.shape)\n",
    "print('y_test.shape:', y_test.shape)"
   ]
  },
  {
   "cell_type": "code",
   "execution_count": 20,
   "id": "d1581a52",
   "metadata": {
    "execution": {
     "iopub.execute_input": "2024-04-26T15:33:04.051323Z",
     "iopub.status.busy": "2024-04-26T15:33:04.050883Z",
     "iopub.status.idle": "2024-04-26T15:33:06.442507Z",
     "shell.execute_reply": "2024-04-26T15:33:06.441408Z"
    },
    "papermill": {
     "duration": 2.414357,
     "end_time": "2024-04-26T15:33:06.445138",
     "exception": false,
     "start_time": "2024-04-26T15:33:04.030781",
     "status": "completed"
    },
    "tags": []
   },
   "outputs": [
    {
     "data": {
      "text/plain": [
       "0.7953422724064926"
      ]
     },
     "execution_count": 20,
     "metadata": {},
     "output_type": "execute_result"
    }
   ],
   "source": [
    "from sklearn.ensemble import GradientBoostingClassifier \n",
    "\n",
    "clf = GradientBoostingClassifier(n_estimators = 100, learning_rate = 1.0, max_depth = 5,\n",
    "                                  random_state = 42).fit(X_train, y_train)\n",
    "clf.score(X_test, y_test)"
   ]
  },
  {
   "cell_type": "code",
   "execution_count": 21,
   "id": "29a96346",
   "metadata": {
    "execution": {
     "iopub.execute_input": "2024-04-26T15:33:06.480604Z",
     "iopub.status.busy": "2024-04-26T15:33:06.479714Z",
     "iopub.status.idle": "2024-04-26T15:33:08.514058Z",
     "shell.execute_reply": "2024-04-26T15:33:08.512922Z"
    },
    "papermill": {
     "duration": 2.054893,
     "end_time": "2024-04-26T15:33:08.516737",
     "exception": false,
     "start_time": "2024-04-26T15:33:06.461844",
     "status": "completed"
    },
    "tags": []
   },
   "outputs": [
    {
     "name": "stdout",
     "output_type": "stream",
     "text": [
      "Accuracy: 0.7953422724064926\n"
     ]
    }
   ],
   "source": [
    "from sklearn.ensemble import GradientBoostingClassifier \n",
    "from sklearn.metrics import accuracy_score\n",
    "\n",
    "clf = GradientBoostingClassifier(n_estimators = 100, learning_rate = 1.0, max_depth = 5,\n",
    "                                  random_state = 42).fit(X_train, y_train)\n",
    "y_pred = clf.predict(X_test)\n",
    "accuracy = accuracy_score(y_test, y_pred)\n",
    "\n",
    "print(f'Accuracy: {accuracy}')"
   ]
  },
  {
   "cell_type": "code",
   "execution_count": 22,
   "id": "be75380a",
   "metadata": {
    "execution": {
     "iopub.execute_input": "2024-04-26T15:33:08.552091Z",
     "iopub.status.busy": "2024-04-26T15:33:08.551684Z",
     "iopub.status.idle": "2024-04-26T15:33:19.671184Z",
     "shell.execute_reply": "2024-04-26T15:33:19.670239Z"
    },
    "papermill": {
     "duration": 11.140594,
     "end_time": "2024-04-26T15:33:19.674103",
     "exception": false,
     "start_time": "2024-04-26T15:33:08.533509",
     "status": "completed"
    },
    "tags": []
   },
   "outputs": [
    {
     "name": "stderr",
     "output_type": "stream",
     "text": [
      "/opt/conda/lib/python3.10/site-packages/sklearn/linear_model/_logistic.py:458: ConvergenceWarning: lbfgs failed to converge (status=1):\n",
      "STOP: TOTAL NO. of ITERATIONS REACHED LIMIT.\n",
      "\n",
      "Increase the number of iterations (max_iter) or scale the data as shown in:\n",
      "    https://scikit-learn.org/stable/modules/preprocessing.html\n",
      "Please also refer to the documentation for alternative solver options:\n",
      "    https://scikit-learn.org/stable/modules/linear_model.html#logistic-regression\n",
      "  n_iter_i = _check_optimize_result(\n"
     ]
    },
    {
     "name": "stdout",
     "output_type": "stream",
     "text": [
      "Logistic Regression - Accuracy: 0.7889908256880734\n",
      "[0.7889908256880734]\n",
      "Decision Tree - Accuracy: 0.7282992237120678\n",
      "[0.7889908256880734, 0.7282992237120678]\n",
      "Random Forest - Accuracy: 0.8016937191249118\n",
      "[0.7889908256880734, 0.7282992237120678, 0.8016937191249118]\n",
      "SVM - Accuracy: 0.7819336626676077\n",
      "[0.7889908256880734, 0.7282992237120678, 0.8016937191249118, 0.7819336626676077]\n",
      "KNN - Accuracy: 0.7748764996471419\n",
      "[0.7889908256880734, 0.7282992237120678, 0.8016937191249118, 0.7819336626676077, 0.7748764996471419]\n",
      "XGBoost - Accuracy: 0.808045165843331\n",
      "[0.7889908256880734, 0.7282992237120678, 0.8016937191249118, 0.7819336626676077, 0.7748764996471419, 0.808045165843331]\n"
     ]
    }
   ],
   "source": [
    "from sklearn.linear_model import LogisticRegression\n",
    "from sklearn.ensemble import RandomForestClassifier\n",
    "from sklearn.neighbors import KNeighborsClassifier\n",
    "from sklearn.tree import DecisionTreeClassifier\n",
    "from sklearn.svm import SVC\n",
    "import xgboost as xgb\n",
    "from sklearn.model_selection import train_test_split, StratifiedKFold, GridSearchCV\n",
    "from sklearn.model_selection import cross_val_score\n",
    "from sklearn.metrics import accuracy_score\n",
    "\n",
    "models = {\n",
    "    'Logistic Regression': LogisticRegression(),\n",
    "    'Decision Tree': DecisionTreeClassifier(),\n",
    "    'Random Forest': RandomForestClassifier(),\n",
    "    'SVM': SVC(probability=True),\n",
    "    'KNN': KNeighborsClassifier(),\n",
    "    'XGBoost': xgb.XGBClassifier(enable_categorical=True)\n",
    "}\n",
    "\n",
    "accuracies = []\n",
    "\n",
    "for model_name, model in models.items():\n",
    "    \n",
    "    model.fit(X_train, y_train)\n",
    "    \n",
    "    y_pred = model.predict(X_test)\n",
    "    \n",
    "    accuracy = accuracy_score(y_test, y_pred)\n",
    "    \n",
    "    accuracies.append(accuracy)\n",
    "    \n",
    "    print(f'{model_name} - Accuracy: {accuracy}')\n",
    "    \n",
    "    print(accuracies)"
   ]
  },
  {
   "cell_type": "code",
   "execution_count": 23,
   "id": "4e4441fb",
   "metadata": {
    "execution": {
     "iopub.execute_input": "2024-04-26T15:33:19.779648Z",
     "iopub.status.busy": "2024-04-26T15:33:19.779236Z",
     "iopub.status.idle": "2024-04-26T15:33:20.109901Z",
     "shell.execute_reply": "2024-04-26T15:33:20.108521Z"
    },
    "papermill": {
     "duration": 0.419887,
     "end_time": "2024-04-26T15:33:20.112616",
     "exception": false,
     "start_time": "2024-04-26T15:33:19.692729",
     "status": "completed"
    },
    "tags": []
   },
   "outputs": [
    {
     "data": {
      "image/png": "[encoded data removed]",
      "text/plain": [
       "<Figure size 1000x600 with 1 Axes>"
      ]
     },
     "metadata": {},
     "output_type": "display_data"
    }
   ],
   "source": [
    "import matplotlib.pyplot as plt\n",
    "\n",
    "# Extract model names and accuracies\n",
    "model_names = list(models.keys())\n",
    "accuracies \n",
    "# Plotting\n",
    "plt.figure(figsize=(10, 6))\n",
    "plt.bar(model_names, accuracies, color='skyblue')\n",
    "plt.xlabel('Model')\n",
    "plt.ylabel('Accuracy')\n",
    "plt.title('Accuracy of Different Models')\n",
    "plt.xticks(rotation=45)\n",
    "plt.ylim(0.7, 0.85)  # Set ylim for better visualization\n",
    "plt.grid(axis='y', linestyle='--', alpha=0.7)\n",
    "plt.tight_layout()\n",
    "plt.show()"
   ]
  },
  {
   "cell_type": "code",
   "execution_count": 24,
   "id": "f17597c6",
   "metadata": {
    "execution": {
     "iopub.execute_input": "2024-04-26T15:33:20.151711Z",
     "iopub.status.busy": "2024-04-26T15:33:20.151249Z",
     "iopub.status.idle": "2024-04-26T15:33:20.238678Z",
     "shell.execute_reply": "2024-04-26T15:33:20.237150Z"
    },
    "papermill": {
     "duration": 0.110719,
     "end_time": "2024-04-26T15:33:20.241723",
     "exception": false,
     "start_time": "2024-04-26T15:33:20.131004",
     "status": "completed"
    },
    "tags": []
   },
   "outputs": [],
   "source": [
    "# Let's apply the same pre-processing to the test_set\n",
    "\n",
    "test_df_subset = test_df.copy()\n",
    "\n",
    "# Some pre-processing \n",
    "test_df_subset = test_df_subset.drop(['Name'], axis=1)\n",
    "\n",
    "# Split the PassengerId into Group and Number columns\n",
    "split_passenger_id = test_df_subset['PassengerId'].str.split('_', expand=True)\n",
    "test_df_subset['Group'] = split_passenger_id[0]\n",
    "test_df_subset['Number'] = split_passenger_id[1]\n",
    "\n",
    "# Drop the PassengerId column\n",
    "test_df_subset.drop(columns=['PassengerId'], inplace=True)\n",
    "\n",
    "# Split the Cabin into Cabin Deck, Cabin Number, and Cabin Side columns\n",
    "split_cabin = test_df_subset['Cabin'].str.split('/', expand=True)\n",
    "test_df_subset['Cabin Deck'] = split_cabin[0]\n",
    "test_df_subset['Cabin Number'] = split_cabin[1]\n",
    "test_df_subset['Cabin Side'] = split_cabin[2]\n",
    "\n",
    "# Drop the Cabin column\n",
    "test_df_subset.drop(columns=['Cabin'], inplace=True)\n",
    "\n",
    "# Select the columns you want to one-hot encode\n",
    "columns_to_encode = ['HomePlanet', 'Destination', 'Cabin Deck', 'Cabin Side']\n",
    "\n",
    "# Remove leading and trailing whitespace\n",
    "test_df_subset[columns_to_encode] = test_df_subset[columns_to_encode].apply(lambda x: x.str.strip())\n",
    "\n",
    "# Perform one-hot encoding on the selected columns\n",
    "test_df_subset_hot = pd.get_dummies(test_df_subset[columns_to_encode])\n",
    "\n",
    "# Concatenate the original test_df DataFrame with the one-hot encoded DataFrame\n",
    "test_df_subset_hot = pd.concat([test_df_subset.drop(columns=columns_to_encode), test_df_subset_hot], axis=1)\n",
    "\n",
    "# Drop rows with missing values\n",
    "#test_df_subset_hot = test_df_subset_hot.dropna()\n",
    "\n",
    "# Convert object types to numeric and boolean\n",
    "numeric_col = ['Group', 'Number', 'Cabin Number']\n",
    "bool_col = ['CryoSleep', 'VIP']\n",
    "\n",
    "for col in numeric_col:\n",
    "    test_df_subset_hot[col] = pd.to_numeric(test_df_subset_hot[col].astype(str).str.zfill(4), errors='coerce')\n",
    "\n",
    "for col in bool_col:\n",
    "    test_df_subset_hot[col] = test_df_subset_hot[col].map({'True': True, 'False': False}).astype(bool)\n"
   ]
  },
  {
   "cell_type": "code",
   "execution_count": 25,
   "id": "8714021d",
   "metadata": {
    "execution": {
     "iopub.execute_input": "2024-04-26T15:33:20.281043Z",
     "iopub.status.busy": "2024-04-26T15:33:20.280662Z",
     "iopub.status.idle": "2024-04-26T15:33:20.287816Z",
     "shell.execute_reply": "2024-04-26T15:33:20.286717Z"
    },
    "papermill": {
     "duration": 0.030394,
     "end_time": "2024-04-26T15:33:20.290182",
     "exception": false,
     "start_time": "2024-04-26T15:33:20.259788",
     "status": "completed"
    },
    "tags": []
   },
   "outputs": [
    {
     "data": {
      "text/plain": [
       "(4277, 27)"
      ]
     },
     "execution_count": 25,
     "metadata": {},
     "output_type": "execute_result"
    }
   ],
   "source": [
    "test_df_subset_hot.shape"
   ]
  },
  {
   "cell_type": "code",
   "execution_count": 26,
   "id": "ccdcdf11",
   "metadata": {
    "execution": {
     "iopub.execute_input": "2024-04-26T15:33:20.328578Z",
     "iopub.status.busy": "2024-04-26T15:33:20.328169Z",
     "iopub.status.idle": "2024-04-26T15:33:20.338048Z",
     "shell.execute_reply": "2024-04-26T15:33:20.336674Z"
    },
    "papermill": {
     "duration": 0.032691,
     "end_time": "2024-04-26T15:33:20.341115",
     "exception": false,
     "start_time": "2024-04-26T15:33:20.308424",
     "status": "completed"
    },
    "tags": []
   },
   "outputs": [
    {
     "data": {
      "text/plain": [
       "CryoSleep                       bool\n",
       "Age                          float64\n",
       "VIP                             bool\n",
       "RoomService                  float64\n",
       "FoodCourt                    float64\n",
       "ShoppingMall                 float64\n",
       "Spa                          float64\n",
       "VRDeck                       float64\n",
       "Group                          int64\n",
       "Number                         int64\n",
       "Cabin Number                 float64\n",
       "HomePlanet_Earth                bool\n",
       "HomePlanet_Europa               bool\n",
       "HomePlanet_Mars                 bool\n",
       "Destination_55 Cancri e         bool\n",
       "Destination_PSO J318.5-22       bool\n",
       "Destination_TRAPPIST-1e         bool\n",
       "Cabin Deck_A                    bool\n",
       "Cabin Deck_B                    bool\n",
       "Cabin Deck_C                    bool\n",
       "Cabin Deck_D                    bool\n",
       "Cabin Deck_E                    bool\n",
       "Cabin Deck_F                    bool\n",
       "Cabin Deck_G                    bool\n",
       "Cabin Deck_T                    bool\n",
       "Cabin Side_P                    bool\n",
       "Cabin Side_S                    bool\n",
       "dtype: object"
      ]
     },
     "execution_count": 26,
     "metadata": {},
     "output_type": "execute_result"
    }
   ],
   "source": [
    "test_df_subset_hot.dtypes "
   ]
  },
  {
   "cell_type": "code",
   "execution_count": 27,
   "id": "b9c2af89",
   "metadata": {
    "execution": {
     "iopub.execute_input": "2024-04-26T15:33:20.380752Z",
     "iopub.status.busy": "2024-04-26T15:33:20.380280Z",
     "iopub.status.idle": "2024-04-26T15:33:20.386214Z",
     "shell.execute_reply": "2024-04-26T15:33:20.385087Z"
    },
    "papermill": {
     "duration": 0.029312,
     "end_time": "2024-04-26T15:33:20.389408",
     "exception": false,
     "start_time": "2024-04-26T15:33:20.360096",
     "status": "completed"
    },
    "tags": []
   },
   "outputs": [
    {
     "name": "stdout",
     "output_type": "stream",
     "text": [
      "test_df_subset_hot: (4277, 27)\n",
      "train_df_subset_hot: (7084, 28)\n"
     ]
    }
   ],
   "source": [
    "print('test_df_subset_hot:', test_df_subset_hot.shape)\n",
    "print('train_df_subset_hot:', train_df_subset_hot.shape)\n"
   ]
  },
  {
   "cell_type": "code",
   "execution_count": 28,
   "id": "3c29f18c",
   "metadata": {
    "execution": {
     "iopub.execute_input": "2024-04-26T15:33:20.428277Z",
     "iopub.status.busy": "2024-04-26T15:33:20.427903Z",
     "iopub.status.idle": "2024-04-26T15:33:20.435457Z",
     "shell.execute_reply": "2024-04-26T15:33:20.434230Z"
    },
    "papermill": {
     "duration": 0.030283,
     "end_time": "2024-04-26T15:33:20.438178",
     "exception": false,
     "start_time": "2024-04-26T15:33:20.407895",
     "status": "completed"
    },
    "tags": []
   },
   "outputs": [
    {
     "data": {
      "text/plain": [
       "Index(['CryoSleep', 'Age', 'VIP', 'RoomService', 'FoodCourt', 'ShoppingMall',\n",
       "       'Spa', 'VRDeck', 'Group', 'Number', 'Cabin Number', 'HomePlanet_Earth',\n",
       "       'HomePlanet_Europa', 'HomePlanet_Mars', 'Destination_55 Cancri e',\n",
       "       'Destination_PSO J318.5-22', 'Destination_TRAPPIST-1e', 'Cabin Deck_A',\n",
       "       'Cabin Deck_B', 'Cabin Deck_C', 'Cabin Deck_D', 'Cabin Deck_E',\n",
       "       'Cabin Deck_F', 'Cabin Deck_G', 'Cabin Deck_T', 'Cabin Side_P',\n",
       "       'Cabin Side_S'],\n",
       "      dtype='object')"
      ]
     },
     "execution_count": 28,
     "metadata": {},
     "output_type": "execute_result"
    }
   ],
   "source": [
    "test_df_subset_hot.columns"
   ]
  },
  {
   "cell_type": "code",
   "execution_count": 29,
   "id": "acfe4289",
   "metadata": {
    "execution": {
     "iopub.execute_input": "2024-04-26T15:33:20.480196Z",
     "iopub.status.busy": "2024-04-26T15:33:20.479789Z",
     "iopub.status.idle": "2024-04-26T15:33:20.743694Z",
     "shell.execute_reply": "2024-04-26T15:33:20.742603Z"
    },
    "papermill": {
     "duration": 0.289011,
     "end_time": "2024-04-26T15:33:20.746708",
     "exception": false,
     "start_time": "2024-04-26T15:33:20.457697",
     "status": "completed"
    },
    "tags": []
   },
   "outputs": [],
   "source": [
    "model1 = xgb.XGBClassifier(enable_categorical = True)\n",
    "\n",
    "model.fit(X_train, y_train)\n",
    "\n",
    "y_pred_test = model.predict(test_df_subset_hot)\n"
   ]
  },
  {
   "cell_type": "code",
   "execution_count": 30,
   "id": "9ed62c94",
   "metadata": {
    "execution": {
     "iopub.execute_input": "2024-04-26T15:33:20.787465Z",
     "iopub.status.busy": "2024-04-26T15:33:20.787082Z",
     "iopub.status.idle": "2024-04-26T15:33:20.819359Z",
     "shell.execute_reply": "2024-04-26T15:33:20.818065Z"
    },
    "papermill": {
     "duration": 0.055102,
     "end_time": "2024-04-26T15:33:20.822007",
     "exception": false,
     "start_time": "2024-04-26T15:33:20.766905",
     "status": "completed"
    },
    "tags": []
   },
   "outputs": [
    {
     "data": {
      "text/html": [
       "<div>\n",
       "<style scoped>\n",
       "    .dataframe tbody tr th:only-of-type {\n",
       "        vertical-align: middle;\n",
       "    }\n",
       "\n",
       "    .dataframe tbody tr th {\n",
       "        vertical-align: top;\n",
       "    }\n",
       "\n",
       "    .dataframe thead th {\n",
       "        text-align: right;\n",
       "    }\n",
       "</style>\n",
       "<table border=\"1\" class=\"dataframe\">\n",
       "  <thead>\n",
       "    <tr style=\"text-align: right;\">\n",
       "      <th></th>\n",
       "      <th>CryoSleep</th>\n",
       "      <th>Age</th>\n",
       "      <th>VIP</th>\n",
       "      <th>RoomService</th>\n",
       "      <th>FoodCourt</th>\n",
       "      <th>ShoppingMall</th>\n",
       "      <th>Spa</th>\n",
       "      <th>VRDeck</th>\n",
       "      <th>Group</th>\n",
       "      <th>Number</th>\n",
       "      <th>...</th>\n",
       "      <th>Cabin Deck_A</th>\n",
       "      <th>Cabin Deck_B</th>\n",
       "      <th>Cabin Deck_C</th>\n",
       "      <th>Cabin Deck_D</th>\n",
       "      <th>Cabin Deck_E</th>\n",
       "      <th>Cabin Deck_F</th>\n",
       "      <th>Cabin Deck_G</th>\n",
       "      <th>Cabin Deck_T</th>\n",
       "      <th>Cabin Side_P</th>\n",
       "      <th>Cabin Side_S</th>\n",
       "    </tr>\n",
       "  </thead>\n",
       "  <tbody>\n",
       "    <tr>\n",
       "      <th>0</th>\n",
       "      <td>True</td>\n",
       "      <td>27.0</td>\n",
       "      <td>True</td>\n",
       "      <td>0.0</td>\n",
       "      <td>0.0</td>\n",
       "      <td>0.0</td>\n",
       "      <td>0.0</td>\n",
       "      <td>0.0</td>\n",
       "      <td>13</td>\n",
       "      <td>1</td>\n",
       "      <td>...</td>\n",
       "      <td>False</td>\n",
       "      <td>False</td>\n",
       "      <td>False</td>\n",
       "      <td>False</td>\n",
       "      <td>False</td>\n",
       "      <td>False</td>\n",
       "      <td>True</td>\n",
       "      <td>False</td>\n",
       "      <td>False</td>\n",
       "      <td>True</td>\n",
       "    </tr>\n",
       "    <tr>\n",
       "      <th>1</th>\n",
       "      <td>True</td>\n",
       "      <td>19.0</td>\n",
       "      <td>True</td>\n",
       "      <td>0.0</td>\n",
       "      <td>9.0</td>\n",
       "      <td>0.0</td>\n",
       "      <td>2823.0</td>\n",
       "      <td>0.0</td>\n",
       "      <td>18</td>\n",
       "      <td>1</td>\n",
       "      <td>...</td>\n",
       "      <td>False</td>\n",
       "      <td>False</td>\n",
       "      <td>False</td>\n",
       "      <td>False</td>\n",
       "      <td>False</td>\n",
       "      <td>True</td>\n",
       "      <td>False</td>\n",
       "      <td>False</td>\n",
       "      <td>False</td>\n",
       "      <td>True</td>\n",
       "    </tr>\n",
       "    <tr>\n",
       "      <th>2</th>\n",
       "      <td>True</td>\n",
       "      <td>31.0</td>\n",
       "      <td>True</td>\n",
       "      <td>0.0</td>\n",
       "      <td>0.0</td>\n",
       "      <td>0.0</td>\n",
       "      <td>0.0</td>\n",
       "      <td>0.0</td>\n",
       "      <td>19</td>\n",
       "      <td>1</td>\n",
       "      <td>...</td>\n",
       "      <td>False</td>\n",
       "      <td>False</td>\n",
       "      <td>True</td>\n",
       "      <td>False</td>\n",
       "      <td>False</td>\n",
       "      <td>False</td>\n",
       "      <td>False</td>\n",
       "      <td>False</td>\n",
       "      <td>False</td>\n",
       "      <td>True</td>\n",
       "    </tr>\n",
       "    <tr>\n",
       "      <th>3</th>\n",
       "      <td>True</td>\n",
       "      <td>38.0</td>\n",
       "      <td>True</td>\n",
       "      <td>0.0</td>\n",
       "      <td>6652.0</td>\n",
       "      <td>0.0</td>\n",
       "      <td>181.0</td>\n",
       "      <td>585.0</td>\n",
       "      <td>21</td>\n",
       "      <td>1</td>\n",
       "      <td>...</td>\n",
       "      <td>False</td>\n",
       "      <td>False</td>\n",
       "      <td>True</td>\n",
       "      <td>False</td>\n",
       "      <td>False</td>\n",
       "      <td>False</td>\n",
       "      <td>False</td>\n",
       "      <td>False</td>\n",
       "      <td>False</td>\n",
       "      <td>True</td>\n",
       "    </tr>\n",
       "    <tr>\n",
       "      <th>4</th>\n",
       "      <td>True</td>\n",
       "      <td>20.0</td>\n",
       "      <td>True</td>\n",
       "      <td>10.0</td>\n",
       "      <td>0.0</td>\n",
       "      <td>635.0</td>\n",
       "      <td>0.0</td>\n",
       "      <td>0.0</td>\n",
       "      <td>23</td>\n",
       "      <td>1</td>\n",
       "      <td>...</td>\n",
       "      <td>False</td>\n",
       "      <td>False</td>\n",
       "      <td>False</td>\n",
       "      <td>False</td>\n",
       "      <td>False</td>\n",
       "      <td>True</td>\n",
       "      <td>False</td>\n",
       "      <td>False</td>\n",
       "      <td>False</td>\n",
       "      <td>True</td>\n",
       "    </tr>\n",
       "  </tbody>\n",
       "</table>\n",
       "<p>5 rows × 27 columns</p>\n",
       "</div>"
      ],
      "text/plain": [
       "   CryoSleep   Age   VIP  RoomService  FoodCourt  ShoppingMall     Spa  \\\n",
       "0       True  27.0  True          0.0        0.0           0.0     0.0   \n",
       "1       True  19.0  True          0.0        9.0           0.0  2823.0   \n",
       "2       True  31.0  True          0.0        0.0           0.0     0.0   \n",
       "3       True  38.0  True          0.0     6652.0           0.0   181.0   \n",
       "4       True  20.0  True         10.0        0.0         635.0     0.0   \n",
       "\n",
       "   VRDeck  Group  Number  ...  Cabin Deck_A  Cabin Deck_B  Cabin Deck_C  \\\n",
       "0     0.0     13       1  ...         False         False         False   \n",
       "1     0.0     18       1  ...         False         False         False   \n",
       "2     0.0     19       1  ...         False         False          True   \n",
       "3   585.0     21       1  ...         False         False          True   \n",
       "4     0.0     23       1  ...         False         False         False   \n",
       "\n",
       "   Cabin Deck_D  Cabin Deck_E  Cabin Deck_F  Cabin Deck_G  Cabin Deck_T  \\\n",
       "0         False         False         False          True         False   \n",
       "1         False         False          True         False         False   \n",
       "2         False         False         False         False         False   \n",
       "3         False         False         False         False         False   \n",
       "4         False         False          True         False         False   \n",
       "\n",
       "   Cabin Side_P  Cabin Side_S  \n",
       "0         False          True  \n",
       "1         False          True  \n",
       "2         False          True  \n",
       "3         False          True  \n",
       "4         False          True  \n",
       "\n",
       "[5 rows x 27 columns]"
      ]
     },
     "execution_count": 30,
     "metadata": {},
     "output_type": "execute_result"
    }
   ],
   "source": [
    "test_df_subset_hot.head()"
   ]
  },
  {
   "cell_type": "code",
   "execution_count": 31,
   "id": "cb8e6d41",
   "metadata": {
    "execution": {
     "iopub.execute_input": "2024-04-26T15:33:20.862286Z",
     "iopub.status.busy": "2024-04-26T15:33:20.861906Z",
     "iopub.status.idle": "2024-04-26T15:33:20.899886Z",
     "shell.execute_reply": "2024-04-26T15:33:20.898525Z"
    },
    "papermill": {
     "duration": 0.061466,
     "end_time": "2024-04-26T15:33:20.902798",
     "exception": false,
     "start_time": "2024-04-26T15:33:20.841332",
     "status": "completed"
    },
    "tags": []
   },
   "outputs": [
    {
     "data": {
      "text/html": [
       "<div>\n",
       "<style scoped>\n",
       "    .dataframe tbody tr th:only-of-type {\n",
       "        vertical-align: middle;\n",
       "    }\n",
       "\n",
       "    .dataframe tbody tr th {\n",
       "        vertical-align: top;\n",
       "    }\n",
       "\n",
       "    .dataframe thead th {\n",
       "        text-align: right;\n",
       "    }\n",
       "</style>\n",
       "<table border=\"1\" class=\"dataframe\">\n",
       "  <thead>\n",
       "    <tr style=\"text-align: right;\">\n",
       "      <th></th>\n",
       "      <th>CryoSleep</th>\n",
       "      <th>Age</th>\n",
       "      <th>VIP</th>\n",
       "      <th>RoomService</th>\n",
       "      <th>FoodCourt</th>\n",
       "      <th>ShoppingMall</th>\n",
       "      <th>Spa</th>\n",
       "      <th>VRDeck</th>\n",
       "      <th>Group</th>\n",
       "      <th>Number</th>\n",
       "      <th>...</th>\n",
       "      <th>Cabin Deck_A</th>\n",
       "      <th>Cabin Deck_B</th>\n",
       "      <th>Cabin Deck_C</th>\n",
       "      <th>Cabin Deck_D</th>\n",
       "      <th>Cabin Deck_E</th>\n",
       "      <th>Cabin Deck_F</th>\n",
       "      <th>Cabin Deck_G</th>\n",
       "      <th>Cabin Deck_T</th>\n",
       "      <th>Cabin Side_P</th>\n",
       "      <th>Cabin Side_S</th>\n",
       "    </tr>\n",
       "  </thead>\n",
       "  <tbody>\n",
       "    <tr>\n",
       "      <th>0</th>\n",
       "      <td>True</td>\n",
       "      <td>27.0</td>\n",
       "      <td>True</td>\n",
       "      <td>0.0</td>\n",
       "      <td>0.0</td>\n",
       "      <td>0.0</td>\n",
       "      <td>0.0</td>\n",
       "      <td>0.0</td>\n",
       "      <td>13</td>\n",
       "      <td>1</td>\n",
       "      <td>...</td>\n",
       "      <td>False</td>\n",
       "      <td>False</td>\n",
       "      <td>False</td>\n",
       "      <td>False</td>\n",
       "      <td>False</td>\n",
       "      <td>False</td>\n",
       "      <td>True</td>\n",
       "      <td>False</td>\n",
       "      <td>False</td>\n",
       "      <td>True</td>\n",
       "    </tr>\n",
       "    <tr>\n",
       "      <th>1</th>\n",
       "      <td>True</td>\n",
       "      <td>19.0</td>\n",
       "      <td>True</td>\n",
       "      <td>0.0</td>\n",
       "      <td>9.0</td>\n",
       "      <td>0.0</td>\n",
       "      <td>2823.0</td>\n",
       "      <td>0.0</td>\n",
       "      <td>18</td>\n",
       "      <td>1</td>\n",
       "      <td>...</td>\n",
       "      <td>False</td>\n",
       "      <td>False</td>\n",
       "      <td>False</td>\n",
       "      <td>False</td>\n",
       "      <td>False</td>\n",
       "      <td>True</td>\n",
       "      <td>False</td>\n",
       "      <td>False</td>\n",
       "      <td>False</td>\n",
       "      <td>True</td>\n",
       "    </tr>\n",
       "    <tr>\n",
       "      <th>2</th>\n",
       "      <td>True</td>\n",
       "      <td>31.0</td>\n",
       "      <td>True</td>\n",
       "      <td>0.0</td>\n",
       "      <td>0.0</td>\n",
       "      <td>0.0</td>\n",
       "      <td>0.0</td>\n",
       "      <td>0.0</td>\n",
       "      <td>19</td>\n",
       "      <td>1</td>\n",
       "      <td>...</td>\n",
       "      <td>False</td>\n",
       "      <td>False</td>\n",
       "      <td>True</td>\n",
       "      <td>False</td>\n",
       "      <td>False</td>\n",
       "      <td>False</td>\n",
       "      <td>False</td>\n",
       "      <td>False</td>\n",
       "      <td>False</td>\n",
       "      <td>True</td>\n",
       "    </tr>\n",
       "    <tr>\n",
       "      <th>3</th>\n",
       "      <td>True</td>\n",
       "      <td>38.0</td>\n",
       "      <td>True</td>\n",
       "      <td>0.0</td>\n",
       "      <td>6652.0</td>\n",
       "      <td>0.0</td>\n",
       "      <td>181.0</td>\n",
       "      <td>585.0</td>\n",
       "      <td>21</td>\n",
       "      <td>1</td>\n",
       "      <td>...</td>\n",
       "      <td>False</td>\n",
       "      <td>False</td>\n",
       "      <td>True</td>\n",
       "      <td>False</td>\n",
       "      <td>False</td>\n",
       "      <td>False</td>\n",
       "      <td>False</td>\n",
       "      <td>False</td>\n",
       "      <td>False</td>\n",
       "      <td>True</td>\n",
       "    </tr>\n",
       "    <tr>\n",
       "      <th>4</th>\n",
       "      <td>True</td>\n",
       "      <td>20.0</td>\n",
       "      <td>True</td>\n",
       "      <td>10.0</td>\n",
       "      <td>0.0</td>\n",
       "      <td>635.0</td>\n",
       "      <td>0.0</td>\n",
       "      <td>0.0</td>\n",
       "      <td>23</td>\n",
       "      <td>1</td>\n",
       "      <td>...</td>\n",
       "      <td>False</td>\n",
       "      <td>False</td>\n",
       "      <td>False</td>\n",
       "      <td>False</td>\n",
       "      <td>False</td>\n",
       "      <td>True</td>\n",
       "      <td>False</td>\n",
       "      <td>False</td>\n",
       "      <td>False</td>\n",
       "      <td>True</td>\n",
       "    </tr>\n",
       "    <tr>\n",
       "      <th>...</th>\n",
       "      <td>...</td>\n",
       "      <td>...</td>\n",
       "      <td>...</td>\n",
       "      <td>...</td>\n",
       "      <td>...</td>\n",
       "      <td>...</td>\n",
       "      <td>...</td>\n",
       "      <td>...</td>\n",
       "      <td>...</td>\n",
       "      <td>...</td>\n",
       "      <td>...</td>\n",
       "      <td>...</td>\n",
       "      <td>...</td>\n",
       "      <td>...</td>\n",
       "      <td>...</td>\n",
       "      <td>...</td>\n",
       "      <td>...</td>\n",
       "      <td>...</td>\n",
       "      <td>...</td>\n",
       "      <td>...</td>\n",
       "      <td>...</td>\n",
       "    </tr>\n",
       "    <tr>\n",
       "      <th>4272</th>\n",
       "      <td>True</td>\n",
       "      <td>34.0</td>\n",
       "      <td>True</td>\n",
       "      <td>0.0</td>\n",
       "      <td>0.0</td>\n",
       "      <td>0.0</td>\n",
       "      <td>0.0</td>\n",
       "      <td>0.0</td>\n",
       "      <td>9266</td>\n",
       "      <td>2</td>\n",
       "      <td>...</td>\n",
       "      <td>False</td>\n",
       "      <td>False</td>\n",
       "      <td>False</td>\n",
       "      <td>False</td>\n",
       "      <td>False</td>\n",
       "      <td>False</td>\n",
       "      <td>True</td>\n",
       "      <td>False</td>\n",
       "      <td>False</td>\n",
       "      <td>True</td>\n",
       "    </tr>\n",
       "    <tr>\n",
       "      <th>4273</th>\n",
       "      <td>True</td>\n",
       "      <td>42.0</td>\n",
       "      <td>True</td>\n",
       "      <td>0.0</td>\n",
       "      <td>847.0</td>\n",
       "      <td>17.0</td>\n",
       "      <td>10.0</td>\n",
       "      <td>144.0</td>\n",
       "      <td>9269</td>\n",
       "      <td>1</td>\n",
       "      <td>...</td>\n",
       "      <td>False</td>\n",
       "      <td>False</td>\n",
       "      <td>False</td>\n",
       "      <td>False</td>\n",
       "      <td>False</td>\n",
       "      <td>False</td>\n",
       "      <td>False</td>\n",
       "      <td>False</td>\n",
       "      <td>False</td>\n",
       "      <td>False</td>\n",
       "    </tr>\n",
       "    <tr>\n",
       "      <th>4274</th>\n",
       "      <td>True</td>\n",
       "      <td>NaN</td>\n",
       "      <td>True</td>\n",
       "      <td>0.0</td>\n",
       "      <td>0.0</td>\n",
       "      <td>0.0</td>\n",
       "      <td>0.0</td>\n",
       "      <td>0.0</td>\n",
       "      <td>9271</td>\n",
       "      <td>1</td>\n",
       "      <td>...</td>\n",
       "      <td>False</td>\n",
       "      <td>False</td>\n",
       "      <td>False</td>\n",
       "      <td>True</td>\n",
       "      <td>False</td>\n",
       "      <td>False</td>\n",
       "      <td>False</td>\n",
       "      <td>False</td>\n",
       "      <td>True</td>\n",
       "      <td>False</td>\n",
       "    </tr>\n",
       "    <tr>\n",
       "      <th>4275</th>\n",
       "      <td>True</td>\n",
       "      <td>NaN</td>\n",
       "      <td>True</td>\n",
       "      <td>0.0</td>\n",
       "      <td>2680.0</td>\n",
       "      <td>0.0</td>\n",
       "      <td>0.0</td>\n",
       "      <td>523.0</td>\n",
       "      <td>9273</td>\n",
       "      <td>1</td>\n",
       "      <td>...</td>\n",
       "      <td>False</td>\n",
       "      <td>False</td>\n",
       "      <td>False</td>\n",
       "      <td>True</td>\n",
       "      <td>False</td>\n",
       "      <td>False</td>\n",
       "      <td>False</td>\n",
       "      <td>False</td>\n",
       "      <td>True</td>\n",
       "      <td>False</td>\n",
       "    </tr>\n",
       "    <tr>\n",
       "      <th>4276</th>\n",
       "      <td>True</td>\n",
       "      <td>43.0</td>\n",
       "      <td>True</td>\n",
       "      <td>0.0</td>\n",
       "      <td>0.0</td>\n",
       "      <td>0.0</td>\n",
       "      <td>0.0</td>\n",
       "      <td>0.0</td>\n",
       "      <td>9277</td>\n",
       "      <td>1</td>\n",
       "      <td>...</td>\n",
       "      <td>False</td>\n",
       "      <td>False</td>\n",
       "      <td>False</td>\n",
       "      <td>False</td>\n",
       "      <td>False</td>\n",
       "      <td>False</td>\n",
       "      <td>True</td>\n",
       "      <td>False</td>\n",
       "      <td>False</td>\n",
       "      <td>True</td>\n",
       "    </tr>\n",
       "  </tbody>\n",
       "</table>\n",
       "<p>4277 rows × 27 columns</p>\n",
       "</div>"
      ],
      "text/plain": [
       "      CryoSleep   Age   VIP  RoomService  FoodCourt  ShoppingMall     Spa  \\\n",
       "0          True  27.0  True          0.0        0.0           0.0     0.0   \n",
       "1          True  19.0  True          0.0        9.0           0.0  2823.0   \n",
       "2          True  31.0  True          0.0        0.0           0.0     0.0   \n",
       "3          True  38.0  True          0.0     6652.0           0.0   181.0   \n",
       "4          True  20.0  True         10.0        0.0         635.0     0.0   \n",
       "...         ...   ...   ...          ...        ...           ...     ...   \n",
       "4272       True  34.0  True          0.0        0.0           0.0     0.0   \n",
       "4273       True  42.0  True          0.0      847.0          17.0    10.0   \n",
       "4274       True   NaN  True          0.0        0.0           0.0     0.0   \n",
       "4275       True   NaN  True          0.0     2680.0           0.0     0.0   \n",
       "4276       True  43.0  True          0.0        0.0           0.0     0.0   \n",
       "\n",
       "      VRDeck  Group  Number  ...  Cabin Deck_A  Cabin Deck_B  Cabin Deck_C  \\\n",
       "0        0.0     13       1  ...         False         False         False   \n",
       "1        0.0     18       1  ...         False         False         False   \n",
       "2        0.0     19       1  ...         False         False          True   \n",
       "3      585.0     21       1  ...         False         False          True   \n",
       "4        0.0     23       1  ...         False         False         False   \n",
       "...      ...    ...     ...  ...           ...           ...           ...   \n",
       "4272     0.0   9266       2  ...         False         False         False   \n",
       "4273   144.0   9269       1  ...         False         False         False   \n",
       "4274     0.0   9271       1  ...         False         False         False   \n",
       "4275   523.0   9273       1  ...         False         False         False   \n",
       "4276     0.0   9277       1  ...         False         False         False   \n",
       "\n",
       "      Cabin Deck_D  Cabin Deck_E  Cabin Deck_F  Cabin Deck_G  Cabin Deck_T  \\\n",
       "0            False         False         False          True         False   \n",
       "1            False         False          True         False         False   \n",
       "2            False         False         False         False         False   \n",
       "3            False         False         False         False         False   \n",
       "4            False         False          True         False         False   \n",
       "...            ...           ...           ...           ...           ...   \n",
       "4272         False         False         False          True         False   \n",
       "4273         False         False         False         False         False   \n",
       "4274          True         False         False         False         False   \n",
       "4275          True         False         False         False         False   \n",
       "4276         False         False         False          True         False   \n",
       "\n",
       "      Cabin Side_P  Cabin Side_S  \n",
       "0            False          True  \n",
       "1            False          True  \n",
       "2            False          True  \n",
       "3            False          True  \n",
       "4            False          True  \n",
       "...            ...           ...  \n",
       "4272         False          True  \n",
       "4273         False         False  \n",
       "4274          True         False  \n",
       "4275          True         False  \n",
       "4276         False          True  \n",
       "\n",
       "[4277 rows x 27 columns]"
      ]
     },
     "execution_count": 31,
     "metadata": {},
     "output_type": "execute_result"
    }
   ],
   "source": [
    "test_df_subset_hot"
   ]
  },
  {
   "cell_type": "code",
   "execution_count": 32,
   "id": "e500c3dd",
   "metadata": {
    "execution": {
     "iopub.execute_input": "2024-04-26T15:33:20.945979Z",
     "iopub.status.busy": "2024-04-26T15:33:20.945515Z",
     "iopub.status.idle": "2024-04-26T15:33:20.962567Z",
     "shell.execute_reply": "2024-04-26T15:33:20.961368Z"
    },
    "papermill": {
     "duration": 0.042379,
     "end_time": "2024-04-26T15:33:20.965247",
     "exception": false,
     "start_time": "2024-04-26T15:33:20.922868",
     "status": "completed"
    },
    "tags": []
   },
   "outputs": [
    {
     "data": {
      "text/plain": [
       "0"
      ]
     },
     "execution_count": 32,
     "metadata": {},
     "output_type": "execute_result"
    }
   ],
   "source": [
    "# There is something strange here it seems that I have some duplicates as I have 4276 on the side suggesting that number of \n",
    "# rows but then I have only 3491 actual rows. Let's check for duplicates \n",
    "\n",
    "duplicated_index = test_df_subset_hot.duplicated().sum()\n",
    "duplicated_index"
   ]
  },
  {
   "cell_type": "code",
   "execution_count": 33,
   "id": "8a26100a",
   "metadata": {
    "execution": {
     "iopub.execute_input": "2024-04-26T15:33:21.007351Z",
     "iopub.status.busy": "2024-04-26T15:33:21.006916Z",
     "iopub.status.idle": "2024-04-26T15:33:21.013207Z",
     "shell.execute_reply": "2024-04-26T15:33:21.012095Z"
    },
    "papermill": {
     "duration": 0.030916,
     "end_time": "2024-04-26T15:33:21.016259",
     "exception": false,
     "start_time": "2024-04-26T15:33:20.985343",
     "status": "completed"
    },
    "tags": []
   },
   "outputs": [
    {
     "name": "stdout",
     "output_type": "stream",
     "text": [
      "Number of missing values in index: 0\n"
     ]
    }
   ],
   "source": [
    "# Ok no duplicates. Even worst. \n",
    "missing_values = test_df_subset_hot.index.isnull().sum()\n",
    "print(\"Number of missing values in index:\", missing_values)"
   ]
  },
  {
   "cell_type": "code",
   "execution_count": 34,
   "id": "cbf695ab",
   "metadata": {
    "execution": {
     "iopub.execute_input": "2024-04-26T15:33:21.058454Z",
     "iopub.status.busy": "2024-04-26T15:33:21.058069Z",
     "iopub.status.idle": "2024-04-26T15:33:21.070007Z",
     "shell.execute_reply": "2024-04-26T15:33:21.068602Z"
    },
    "papermill": {
     "duration": 0.036043,
     "end_time": "2024-04-26T15:33:21.072535",
     "exception": false,
     "start_time": "2024-04-26T15:33:21.036492",
     "status": "completed"
    },
    "tags": []
   },
   "outputs": [
    {
     "name": "stdout",
     "output_type": "stream",
     "text": [
      "Index is consecutive: True\n"
     ]
    }
   ],
   "source": [
    "# No nulls, clearly... even worse...\n",
    "\n",
    "consecutive_index = all(test_df_subset_hot.index[i] == i for i in range(len(test_df_subset_hot)))\n",
    "print(\"Index is consecutive:\", consecutive_index)"
   ]
  },
  {
   "cell_type": "code",
   "execution_count": 35,
   "id": "3dd7de5a",
   "metadata": {
    "execution": {
     "iopub.execute_input": "2024-04-26T15:33:21.117250Z",
     "iopub.status.busy": "2024-04-26T15:33:21.116831Z",
     "iopub.status.idle": "2024-04-26T15:33:21.122349Z",
     "shell.execute_reply": "2024-04-26T15:33:21.121113Z"
    },
    "papermill": {
     "duration": 0.031753,
     "end_time": "2024-04-26T15:33:21.125195",
     "exception": false,
     "start_time": "2024-04-26T15:33:21.093442",
     "status": "completed"
    },
    "tags": []
   },
   "outputs": [],
   "source": [
    "# AHAAAA the index is not from zero! that's the issue let's reset it\n",
    "test_df_subset_hot.reset_index(drop=True, inplace=True)"
   ]
  },
  {
   "cell_type": "code",
   "execution_count": 36,
   "id": "e324b0b5",
   "metadata": {
    "execution": {
     "iopub.execute_input": "2024-04-26T15:33:21.170100Z",
     "iopub.status.busy": "2024-04-26T15:33:21.169489Z",
     "iopub.status.idle": "2024-04-26T15:33:21.181505Z",
     "shell.execute_reply": "2024-04-26T15:33:21.180446Z"
    },
    "papermill": {
     "duration": 0.038726,
     "end_time": "2024-04-26T15:33:21.184166",
     "exception": false,
     "start_time": "2024-04-26T15:33:21.145440",
     "status": "completed"
    },
    "tags": []
   },
   "outputs": [
    {
     "name": "stdout",
     "output_type": "stream",
     "text": [
      "Index is consecutive: True\n"
     ]
    }
   ],
   "source": [
    "#Did it work? \n",
    "consecutive_index = all(test_df_subset_hot.index[i] == i for i in range(len(test_df_subset_hot)))\n",
    "print(\"Index is consecutive:\", consecutive_index)"
   ]
  },
  {
   "cell_type": "code",
   "execution_count": 37,
   "id": "4325443a",
   "metadata": {
    "execution": {
     "iopub.execute_input": "2024-04-26T15:33:21.226967Z",
     "iopub.status.busy": "2024-04-26T15:33:21.226519Z",
     "iopub.status.idle": "2024-04-26T15:33:21.263388Z",
     "shell.execute_reply": "2024-04-26T15:33:21.261974Z"
    },
    "papermill": {
     "duration": 0.061585,
     "end_time": "2024-04-26T15:33:21.266300",
     "exception": false,
     "start_time": "2024-04-26T15:33:21.204715",
     "status": "completed"
    },
    "tags": []
   },
   "outputs": [
    {
     "data": {
      "text/html": [
       "<div>\n",
       "<style scoped>\n",
       "    .dataframe tbody tr th:only-of-type {\n",
       "        vertical-align: middle;\n",
       "    }\n",
       "\n",
       "    .dataframe tbody tr th {\n",
       "        vertical-align: top;\n",
       "    }\n",
       "\n",
       "    .dataframe thead th {\n",
       "        text-align: right;\n",
       "    }\n",
       "</style>\n",
       "<table border=\"1\" class=\"dataframe\">\n",
       "  <thead>\n",
       "    <tr style=\"text-align: right;\">\n",
       "      <th></th>\n",
       "      <th>CryoSleep</th>\n",
       "      <th>Age</th>\n",
       "      <th>VIP</th>\n",
       "      <th>RoomService</th>\n",
       "      <th>FoodCourt</th>\n",
       "      <th>ShoppingMall</th>\n",
       "      <th>Spa</th>\n",
       "      <th>VRDeck</th>\n",
       "      <th>Group</th>\n",
       "      <th>Number</th>\n",
       "      <th>...</th>\n",
       "      <th>Cabin Deck_A</th>\n",
       "      <th>Cabin Deck_B</th>\n",
       "      <th>Cabin Deck_C</th>\n",
       "      <th>Cabin Deck_D</th>\n",
       "      <th>Cabin Deck_E</th>\n",
       "      <th>Cabin Deck_F</th>\n",
       "      <th>Cabin Deck_G</th>\n",
       "      <th>Cabin Deck_T</th>\n",
       "      <th>Cabin Side_P</th>\n",
       "      <th>Cabin Side_S</th>\n",
       "    </tr>\n",
       "  </thead>\n",
       "  <tbody>\n",
       "    <tr>\n",
       "      <th>0</th>\n",
       "      <td>True</td>\n",
       "      <td>27.0</td>\n",
       "      <td>True</td>\n",
       "      <td>0.0</td>\n",
       "      <td>0.0</td>\n",
       "      <td>0.0</td>\n",
       "      <td>0.0</td>\n",
       "      <td>0.0</td>\n",
       "      <td>13</td>\n",
       "      <td>1</td>\n",
       "      <td>...</td>\n",
       "      <td>False</td>\n",
       "      <td>False</td>\n",
       "      <td>False</td>\n",
       "      <td>False</td>\n",
       "      <td>False</td>\n",
       "      <td>False</td>\n",
       "      <td>True</td>\n",
       "      <td>False</td>\n",
       "      <td>False</td>\n",
       "      <td>True</td>\n",
       "    </tr>\n",
       "    <tr>\n",
       "      <th>1</th>\n",
       "      <td>True</td>\n",
       "      <td>19.0</td>\n",
       "      <td>True</td>\n",
       "      <td>0.0</td>\n",
       "      <td>9.0</td>\n",
       "      <td>0.0</td>\n",
       "      <td>2823.0</td>\n",
       "      <td>0.0</td>\n",
       "      <td>18</td>\n",
       "      <td>1</td>\n",
       "      <td>...</td>\n",
       "      <td>False</td>\n",
       "      <td>False</td>\n",
       "      <td>False</td>\n",
       "      <td>False</td>\n",
       "      <td>False</td>\n",
       "      <td>True</td>\n",
       "      <td>False</td>\n",
       "      <td>False</td>\n",
       "      <td>False</td>\n",
       "      <td>True</td>\n",
       "    </tr>\n",
       "    <tr>\n",
       "      <th>2</th>\n",
       "      <td>True</td>\n",
       "      <td>31.0</td>\n",
       "      <td>True</td>\n",
       "      <td>0.0</td>\n",
       "      <td>0.0</td>\n",
       "      <td>0.0</td>\n",
       "      <td>0.0</td>\n",
       "      <td>0.0</td>\n",
       "      <td>19</td>\n",
       "      <td>1</td>\n",
       "      <td>...</td>\n",
       "      <td>False</td>\n",
       "      <td>False</td>\n",
       "      <td>True</td>\n",
       "      <td>False</td>\n",
       "      <td>False</td>\n",
       "      <td>False</td>\n",
       "      <td>False</td>\n",
       "      <td>False</td>\n",
       "      <td>False</td>\n",
       "      <td>True</td>\n",
       "    </tr>\n",
       "    <tr>\n",
       "      <th>3</th>\n",
       "      <td>True</td>\n",
       "      <td>38.0</td>\n",
       "      <td>True</td>\n",
       "      <td>0.0</td>\n",
       "      <td>6652.0</td>\n",
       "      <td>0.0</td>\n",
       "      <td>181.0</td>\n",
       "      <td>585.0</td>\n",
       "      <td>21</td>\n",
       "      <td>1</td>\n",
       "      <td>...</td>\n",
       "      <td>False</td>\n",
       "      <td>False</td>\n",
       "      <td>True</td>\n",
       "      <td>False</td>\n",
       "      <td>False</td>\n",
       "      <td>False</td>\n",
       "      <td>False</td>\n",
       "      <td>False</td>\n",
       "      <td>False</td>\n",
       "      <td>True</td>\n",
       "    </tr>\n",
       "    <tr>\n",
       "      <th>4</th>\n",
       "      <td>True</td>\n",
       "      <td>20.0</td>\n",
       "      <td>True</td>\n",
       "      <td>10.0</td>\n",
       "      <td>0.0</td>\n",
       "      <td>635.0</td>\n",
       "      <td>0.0</td>\n",
       "      <td>0.0</td>\n",
       "      <td>23</td>\n",
       "      <td>1</td>\n",
       "      <td>...</td>\n",
       "      <td>False</td>\n",
       "      <td>False</td>\n",
       "      <td>False</td>\n",
       "      <td>False</td>\n",
       "      <td>False</td>\n",
       "      <td>True</td>\n",
       "      <td>False</td>\n",
       "      <td>False</td>\n",
       "      <td>False</td>\n",
       "      <td>True</td>\n",
       "    </tr>\n",
       "    <tr>\n",
       "      <th>...</th>\n",
       "      <td>...</td>\n",
       "      <td>...</td>\n",
       "      <td>...</td>\n",
       "      <td>...</td>\n",
       "      <td>...</td>\n",
       "      <td>...</td>\n",
       "      <td>...</td>\n",
       "      <td>...</td>\n",
       "      <td>...</td>\n",
       "      <td>...</td>\n",
       "      <td>...</td>\n",
       "      <td>...</td>\n",
       "      <td>...</td>\n",
       "      <td>...</td>\n",
       "      <td>...</td>\n",
       "      <td>...</td>\n",
       "      <td>...</td>\n",
       "      <td>...</td>\n",
       "      <td>...</td>\n",
       "      <td>...</td>\n",
       "      <td>...</td>\n",
       "    </tr>\n",
       "    <tr>\n",
       "      <th>4272</th>\n",
       "      <td>True</td>\n",
       "      <td>34.0</td>\n",
       "      <td>True</td>\n",
       "      <td>0.0</td>\n",
       "      <td>0.0</td>\n",
       "      <td>0.0</td>\n",
       "      <td>0.0</td>\n",
       "      <td>0.0</td>\n",
       "      <td>9266</td>\n",
       "      <td>2</td>\n",
       "      <td>...</td>\n",
       "      <td>False</td>\n",
       "      <td>False</td>\n",
       "      <td>False</td>\n",
       "      <td>False</td>\n",
       "      <td>False</td>\n",
       "      <td>False</td>\n",
       "      <td>True</td>\n",
       "      <td>False</td>\n",
       "      <td>False</td>\n",
       "      <td>True</td>\n",
       "    </tr>\n",
       "    <tr>\n",
       "      <th>4273</th>\n",
       "      <td>True</td>\n",
       "      <td>42.0</td>\n",
       "      <td>True</td>\n",
       "      <td>0.0</td>\n",
       "      <td>847.0</td>\n",
       "      <td>17.0</td>\n",
       "      <td>10.0</td>\n",
       "      <td>144.0</td>\n",
       "      <td>9269</td>\n",
       "      <td>1</td>\n",
       "      <td>...</td>\n",
       "      <td>False</td>\n",
       "      <td>False</td>\n",
       "      <td>False</td>\n",
       "      <td>False</td>\n",
       "      <td>False</td>\n",
       "      <td>False</td>\n",
       "      <td>False</td>\n",
       "      <td>False</td>\n",
       "      <td>False</td>\n",
       "      <td>False</td>\n",
       "    </tr>\n",
       "    <tr>\n",
       "      <th>4274</th>\n",
       "      <td>True</td>\n",
       "      <td>NaN</td>\n",
       "      <td>True</td>\n",
       "      <td>0.0</td>\n",
       "      <td>0.0</td>\n",
       "      <td>0.0</td>\n",
       "      <td>0.0</td>\n",
       "      <td>0.0</td>\n",
       "      <td>9271</td>\n",
       "      <td>1</td>\n",
       "      <td>...</td>\n",
       "      <td>False</td>\n",
       "      <td>False</td>\n",
       "      <td>False</td>\n",
       "      <td>True</td>\n",
       "      <td>False</td>\n",
       "      <td>False</td>\n",
       "      <td>False</td>\n",
       "      <td>False</td>\n",
       "      <td>True</td>\n",
       "      <td>False</td>\n",
       "    </tr>\n",
       "    <tr>\n",
       "      <th>4275</th>\n",
       "      <td>True</td>\n",
       "      <td>NaN</td>\n",
       "      <td>True</td>\n",
       "      <td>0.0</td>\n",
       "      <td>2680.0</td>\n",
       "      <td>0.0</td>\n",
       "      <td>0.0</td>\n",
       "      <td>523.0</td>\n",
       "      <td>9273</td>\n",
       "      <td>1</td>\n",
       "      <td>...</td>\n",
       "      <td>False</td>\n",
       "      <td>False</td>\n",
       "      <td>False</td>\n",
       "      <td>True</td>\n",
       "      <td>False</td>\n",
       "      <td>False</td>\n",
       "      <td>False</td>\n",
       "      <td>False</td>\n",
       "      <td>True</td>\n",
       "      <td>False</td>\n",
       "    </tr>\n",
       "    <tr>\n",
       "      <th>4276</th>\n",
       "      <td>True</td>\n",
       "      <td>43.0</td>\n",
       "      <td>True</td>\n",
       "      <td>0.0</td>\n",
       "      <td>0.0</td>\n",
       "      <td>0.0</td>\n",
       "      <td>0.0</td>\n",
       "      <td>0.0</td>\n",
       "      <td>9277</td>\n",
       "      <td>1</td>\n",
       "      <td>...</td>\n",
       "      <td>False</td>\n",
       "      <td>False</td>\n",
       "      <td>False</td>\n",
       "      <td>False</td>\n",
       "      <td>False</td>\n",
       "      <td>False</td>\n",
       "      <td>True</td>\n",
       "      <td>False</td>\n",
       "      <td>False</td>\n",
       "      <td>True</td>\n",
       "    </tr>\n",
       "  </tbody>\n",
       "</table>\n",
       "<p>4277 rows × 27 columns</p>\n",
       "</div>"
      ],
      "text/plain": [
       "      CryoSleep   Age   VIP  RoomService  FoodCourt  ShoppingMall     Spa  \\\n",
       "0          True  27.0  True          0.0        0.0           0.0     0.0   \n",
       "1          True  19.0  True          0.0        9.0           0.0  2823.0   \n",
       "2          True  31.0  True          0.0        0.0           0.0     0.0   \n",
       "3          True  38.0  True          0.0     6652.0           0.0   181.0   \n",
       "4          True  20.0  True         10.0        0.0         635.0     0.0   \n",
       "...         ...   ...   ...          ...        ...           ...     ...   \n",
       "4272       True  34.0  True          0.0        0.0           0.0     0.0   \n",
       "4273       True  42.0  True          0.0      847.0          17.0    10.0   \n",
       "4274       True   NaN  True          0.0        0.0           0.0     0.0   \n",
       "4275       True   NaN  True          0.0     2680.0           0.0     0.0   \n",
       "4276       True  43.0  True          0.0        0.0           0.0     0.0   \n",
       "\n",
       "      VRDeck  Group  Number  ...  Cabin Deck_A  Cabin Deck_B  Cabin Deck_C  \\\n",
       "0        0.0     13       1  ...         False         False         False   \n",
       "1        0.0     18       1  ...         False         False         False   \n",
       "2        0.0     19       1  ...         False         False          True   \n",
       "3      585.0     21       1  ...         False         False          True   \n",
       "4        0.0     23       1  ...         False         False         False   \n",
       "...      ...    ...     ...  ...           ...           ...           ...   \n",
       "4272     0.0   9266       2  ...         False         False         False   \n",
       "4273   144.0   9269       1  ...         False         False         False   \n",
       "4274     0.0   9271       1  ...         False         False         False   \n",
       "4275   523.0   9273       1  ...         False         False         False   \n",
       "4276     0.0   9277       1  ...         False         False         False   \n",
       "\n",
       "      Cabin Deck_D  Cabin Deck_E  Cabin Deck_F  Cabin Deck_G  Cabin Deck_T  \\\n",
       "0            False         False         False          True         False   \n",
       "1            False         False          True         False         False   \n",
       "2            False         False         False         False         False   \n",
       "3            False         False         False         False         False   \n",
       "4            False         False          True         False         False   \n",
       "...            ...           ...           ...           ...           ...   \n",
       "4272         False         False         False          True         False   \n",
       "4273         False         False         False         False         False   \n",
       "4274          True         False         False         False         False   \n",
       "4275          True         False         False         False         False   \n",
       "4276         False         False         False          True         False   \n",
       "\n",
       "      Cabin Side_P  Cabin Side_S  \n",
       "0            False          True  \n",
       "1            False          True  \n",
       "2            False          True  \n",
       "3            False          True  \n",
       "4            False          True  \n",
       "...            ...           ...  \n",
       "4272         False          True  \n",
       "4273         False         False  \n",
       "4274          True         False  \n",
       "4275          True         False  \n",
       "4276         False          True  \n",
       "\n",
       "[4277 rows x 27 columns]"
      ]
     },
     "execution_count": 37,
     "metadata": {},
     "output_type": "execute_result"
    }
   ],
   "source": [
    "test_df_subset_hot"
   ]
  },
  {
   "cell_type": "code",
   "execution_count": 38,
   "id": "d168bf7d",
   "metadata": {
    "execution": {
     "iopub.execute_input": "2024-04-26T15:33:21.310479Z",
     "iopub.status.busy": "2024-04-26T15:33:21.309670Z",
     "iopub.status.idle": "2024-04-26T15:33:21.316090Z",
     "shell.execute_reply": "2024-04-26T15:33:21.314837Z"
    },
    "papermill": {
     "duration": 0.031409,
     "end_time": "2024-04-26T15:33:21.318723",
     "exception": false,
     "start_time": "2024-04-26T15:33:21.287314",
     "status": "completed"
    },
    "tags": []
   },
   "outputs": [],
   "source": [
    "# Now the problem is that I don't have a PassengerID anymore!! I have to reinsert it. Easily enough \n",
    "# I can just concatenate the group + the number. However I am still missing some leading zeros. \n",
    "# So let's frist write a quick function to fill them. \n",
    "\n",
    "def leading_zero_G(x):\n",
    "    return str(x).zfill(4)\n",
    "\n",
    "\n",
    "def leading_zero_N(x):\n",
    "    return str(x).zfill(2)"
   ]
  },
  {
   "cell_type": "code",
   "execution_count": 39,
   "id": "48695b75",
   "metadata": {
    "execution": {
     "iopub.execute_input": "2024-04-26T15:33:21.362795Z",
     "iopub.status.busy": "2024-04-26T15:33:21.362313Z",
     "iopub.status.idle": "2024-04-26T15:33:21.374293Z",
     "shell.execute_reply": "2024-04-26T15:33:21.373011Z"
    },
    "papermill": {
     "duration": 0.037512,
     "end_time": "2024-04-26T15:33:21.377015",
     "exception": false,
     "start_time": "2024-04-26T15:33:21.339503",
     "status": "completed"
    },
    "tags": []
   },
   "outputs": [],
   "source": [
    "test_df_subset_hot['Group'] = test_df_subset_hot['Group'].apply(leading_zero_G)\n",
    "test_df_subset_hot['Number'] = test_df_subset_hot['Number'].apply(leading_zero_N)"
   ]
  },
  {
   "cell_type": "code",
   "execution_count": 40,
   "id": "5cbd6f67",
   "metadata": {
    "execution": {
     "iopub.execute_input": "2024-04-26T15:33:21.420473Z",
     "iopub.status.busy": "2024-04-26T15:33:21.420092Z",
     "iopub.status.idle": "2024-04-26T15:33:21.429174Z",
     "shell.execute_reply": "2024-04-26T15:33:21.428169Z"
    },
    "papermill": {
     "duration": 0.033703,
     "end_time": "2024-04-26T15:33:21.431736",
     "exception": false,
     "start_time": "2024-04-26T15:33:21.398033",
     "status": "completed"
    },
    "tags": []
   },
   "outputs": [
    {
     "data": {
      "text/plain": [
       "0       01\n",
       "1       01\n",
       "2       01\n",
       "3       01\n",
       "4       01\n",
       "        ..\n",
       "4272    02\n",
       "4273    01\n",
       "4274    01\n",
       "4275    01\n",
       "4276    01\n",
       "Name: Number, Length: 4277, dtype: object"
      ]
     },
     "execution_count": 40,
     "metadata": {},
     "output_type": "execute_result"
    }
   ],
   "source": [
    "test_df_subset_hot['Number']"
   ]
  },
  {
   "cell_type": "code",
   "execution_count": 41,
   "id": "5c715ec1",
   "metadata": {
    "execution": {
     "iopub.execute_input": "2024-04-26T15:33:21.476218Z",
     "iopub.status.busy": "2024-04-26T15:33:21.475579Z",
     "iopub.status.idle": "2024-04-26T15:33:21.484246Z",
     "shell.execute_reply": "2024-04-26T15:33:21.483091Z"
    },
    "papermill": {
     "duration": 0.034075,
     "end_time": "2024-04-26T15:33:21.487006",
     "exception": false,
     "start_time": "2024-04-26T15:33:21.452931",
     "status": "completed"
    },
    "tags": []
   },
   "outputs": [],
   "source": [
    "#Recombine group and number into PassengerID\n",
    "test_df_subset_hot['PassengerID'] = test_df_subset_hot['Group'].astype(str) + '_' + test_df_subset_hot['Number'].astype(str)"
   ]
  },
  {
   "cell_type": "code",
   "execution_count": 42,
   "id": "ce977213",
   "metadata": {
    "execution": {
     "iopub.execute_input": "2024-04-26T15:33:21.532486Z",
     "iopub.status.busy": "2024-04-26T15:33:21.532051Z",
     "iopub.status.idle": "2024-04-26T15:33:21.541743Z",
     "shell.execute_reply": "2024-04-26T15:33:21.540562Z"
    },
    "papermill": {
     "duration": 0.035275,
     "end_time": "2024-04-26T15:33:21.544235",
     "exception": false,
     "start_time": "2024-04-26T15:33:21.508960",
     "status": "completed"
    },
    "tags": []
   },
   "outputs": [
    {
     "data": {
      "text/plain": [
       "0       0013_01\n",
       "1       0018_01\n",
       "2       0019_01\n",
       "3       0021_01\n",
       "4       0023_01\n",
       "         ...   \n",
       "4272    9266_02\n",
       "4273    9269_01\n",
       "4274    9271_01\n",
       "4275    9273_01\n",
       "4276    9277_01\n",
       "Name: PassengerID, Length: 4277, dtype: object"
      ]
     },
     "execution_count": 42,
     "metadata": {},
     "output_type": "execute_result"
    }
   ],
   "source": [
    "test_df_subset_hot['PassengerID']"
   ]
  },
  {
   "cell_type": "code",
   "execution_count": 43,
   "id": "b1120fc5",
   "metadata": {
    "execution": {
     "iopub.execute_input": "2024-04-26T15:33:21.588486Z",
     "iopub.status.busy": "2024-04-26T15:33:21.588060Z",
     "iopub.status.idle": "2024-04-26T15:33:21.596160Z",
     "shell.execute_reply": "2024-04-26T15:33:21.594982Z"
    },
    "papermill": {
     "duration": 0.033212,
     "end_time": "2024-04-26T15:33:21.598686",
     "exception": false,
     "start_time": "2024-04-26T15:33:21.565474",
     "status": "completed"
    },
    "tags": []
   },
   "outputs": [
    {
     "data": {
      "text/plain": [
       "4277"
      ]
     },
     "execution_count": 43,
     "metadata": {},
     "output_type": "execute_result"
    }
   ],
   "source": [
    "y_pred_test = np.where(y_pred_test == 1, 'True', 'False')\n",
    "len(y_pred_test)"
   ]
  },
  {
   "cell_type": "code",
   "execution_count": 44,
   "id": "d59f69cf",
   "metadata": {
    "execution": {
     "iopub.execute_input": "2024-04-26T15:33:21.643807Z",
     "iopub.status.busy": "2024-04-26T15:33:21.643374Z",
     "iopub.status.idle": "2024-04-26T15:33:21.660360Z",
     "shell.execute_reply": "2024-04-26T15:33:21.659215Z"
    },
    "papermill": {
     "duration": 0.042928,
     "end_time": "2024-04-26T15:33:21.663242",
     "exception": false,
     "start_time": "2024-04-26T15:33:21.620314",
     "status": "completed"
    },
    "tags": []
   },
   "outputs": [],
   "source": [
    "results = pd.DataFrame({'PassengerId': test_df_subset_hot[\"PassengerID\"], 'Transported': y_pred_test})\n",
    "results.to_csv(\"submission.csv\", header=True, index=None)"
   ]
  },
  {
   "cell_type": "code",
   "execution_count": 45,
   "id": "b5e85f7b",
   "metadata": {
    "execution": {
     "iopub.execute_input": "2024-04-26T15:33:21.709845Z",
     "iopub.status.busy": "2024-04-26T15:33:21.709406Z",
     "iopub.status.idle": "2024-04-26T15:33:21.728621Z",
     "shell.execute_reply": "2024-04-26T15:33:21.727414Z"
    },
    "papermill": {
     "duration": 0.04671,
     "end_time": "2024-04-26T15:33:21.731398",
     "exception": false,
     "start_time": "2024-04-26T15:33:21.684688",
     "status": "completed"
    },
    "tags": []
   },
   "outputs": [
    {
     "data": {
      "text/html": [
       "<div>\n",
       "<style scoped>\n",
       "    .dataframe tbody tr th:only-of-type {\n",
       "        vertical-align: middle;\n",
       "    }\n",
       "\n",
       "    .dataframe tbody tr th {\n",
       "        vertical-align: top;\n",
       "    }\n",
       "\n",
       "    .dataframe thead th {\n",
       "        text-align: right;\n",
       "    }\n",
       "</style>\n",
       "<table border=\"1\" class=\"dataframe\">\n",
       "  <thead>\n",
       "    <tr style=\"text-align: right;\">\n",
       "      <th></th>\n",
       "      <th>PassengerId</th>\n",
       "      <th>Transported</th>\n",
       "    </tr>\n",
       "  </thead>\n",
       "  <tbody>\n",
       "    <tr>\n",
       "      <th>0</th>\n",
       "      <td>0013_01</td>\n",
       "      <td>True</td>\n",
       "    </tr>\n",
       "    <tr>\n",
       "      <th>1</th>\n",
       "      <td>0018_01</td>\n",
       "      <td>False</td>\n",
       "    </tr>\n",
       "    <tr>\n",
       "      <th>2</th>\n",
       "      <td>0019_01</td>\n",
       "      <td>True</td>\n",
       "    </tr>\n",
       "    <tr>\n",
       "      <th>3</th>\n",
       "      <td>0021_01</td>\n",
       "      <td>True</td>\n",
       "    </tr>\n",
       "    <tr>\n",
       "      <th>4</th>\n",
       "      <td>0023_01</td>\n",
       "      <td>False</td>\n",
       "    </tr>\n",
       "    <tr>\n",
       "      <th>...</th>\n",
       "      <td>...</td>\n",
       "      <td>...</td>\n",
       "    </tr>\n",
       "    <tr>\n",
       "      <th>4272</th>\n",
       "      <td>9266_02</td>\n",
       "      <td>True</td>\n",
       "    </tr>\n",
       "    <tr>\n",
       "      <th>4273</th>\n",
       "      <td>9269_01</td>\n",
       "      <td>True</td>\n",
       "    </tr>\n",
       "    <tr>\n",
       "      <th>4274</th>\n",
       "      <td>9271_01</td>\n",
       "      <td>True</td>\n",
       "    </tr>\n",
       "    <tr>\n",
       "      <th>4275</th>\n",
       "      <td>9273_01</td>\n",
       "      <td>True</td>\n",
       "    </tr>\n",
       "    <tr>\n",
       "      <th>4276</th>\n",
       "      <td>9277_01</td>\n",
       "      <td>True</td>\n",
       "    </tr>\n",
       "  </tbody>\n",
       "</table>\n",
       "<p>4277 rows × 2 columns</p>\n",
       "</div>"
      ],
      "text/plain": [
       "     PassengerId  Transported\n",
       "0        0013_01         True\n",
       "1        0018_01        False\n",
       "2        0019_01         True\n",
       "3        0021_01         True\n",
       "4        0023_01        False\n",
       "...          ...          ...\n",
       "4272     9266_02         True\n",
       "4273     9269_01         True\n",
       "4274     9271_01         True\n",
       "4275     9273_01         True\n",
       "4276     9277_01         True\n",
       "\n",
       "[4277 rows x 2 columns]"
      ]
     },
     "execution_count": 45,
     "metadata": {},
     "output_type": "execute_result"
    }
   ],
   "source": [
    "pd.read_csv('submission.csv')"
   ]
  }
 ],
 "metadata": {
  "kaggle": {
   "accelerator": "none",
   "dataSources": [
    {
     "databundleVersionId": 3220602,
     "sourceId": 34377,
     "sourceType": "competition"
    }
   ],
   "dockerImageVersionId": 30664,
   "isGpuEnabled": false,
   "isInternetEnabled": true,
   "language": "python",
   "sourceType": "notebook"
  },
  "kernelspec": {
   "display_name": "Python 3",
   "language": "python",
   "name": "python3"
  },
  "language_info": {
   "codemirror_mode": {
    "name": "ipython",
    "version": 3
   },
   "file_extension": ".py",
   "mimetype": "text/x-python",
   "name": "python",
   "nbconvert_exporter": "python",
   "pygments_lexer": "ipython3",
   "version": "3.10.13"
  },
  "papermill": {
   "default_parameters": {},
   "duration": 25.976804,
   "end_time": "2024-04-26T15:33:22.476608",
   "environment_variables": {},
   "exception": null,
   "input_path": "__notebook__.ipynb",
   "output_path": "__notebook__.ipynb",
   "parameters": {},
   "start_time": "2024-04-26T15:32:56.499804",
   "version": "2.5.0"
  }
 },
 "nbformat": 4,
 "nbformat_minor": 5
}
